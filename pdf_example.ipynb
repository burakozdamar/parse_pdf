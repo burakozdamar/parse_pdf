{
 "cells": [
  {
   "cell_type": "code",
   "execution_count": 15,
   "metadata": {},
   "outputs": [],
   "source": [
    "import PyPDF2\n",
    "import os\n",
    "from tqdm import trange "
   ]
  },
  {
   "cell_type": "code",
   "execution_count": 16,
   "metadata": {},
   "outputs": [],
   "source": [
    "# for file in os.listdir('.'):\n",
    "    \n",
    "#     text_dict={}\n",
    "#     text=[]\n",
    "\n",
    "#     try:   \n",
    "#         if file.endswith('.pdf'):\n",
    "#             print(file.split('/')[-1])\n",
    "#             print('-'*8)\n",
    "#             file = open(file, 'rb')\n",
    "#             pdfReader = PyPDF2.PdfFileReader(file)\n",
    "\n",
    "#             for page in range(pdfReader.numPages):\n",
    "#                 page = pdfReader.getPage(page)\n",
    "#                 text.append(page.extractText().split('\\n'))\n",
    "\n",
    "#         qu = ['Au(111)', 'Au (111)', '(111)', '111']\n",
    "#     #     qu = ['111']\n",
    "\n",
    "#         for page_num, page in enumerate(text):\n",
    "#             for line_num, line in enumerate(page):\n",
    "\n",
    "#                 res = [ele for ele in qu if ele in line] \n",
    "\n",
    "#                 if any(res):\n",
    "\n",
    "#                     print(page_num+1,line_num, line)\n",
    "\n",
    "#         print('='*8)\n",
    "#     except:\n",
    "#         pass"
   ]
  },
  {
   "cell_type": "code",
   "execution_count": 17,
   "metadata": {},
   "outputs": [],
   "source": [
    "def pdf2text(folder):\n",
    "    dct={}\n",
    "    print(f\"{len(os.listdir(folder))} in total\")\n",
    "    for file in os.listdir(folder):\n",
    "        \n",
    "        text=[]\n",
    "        \n",
    "        if file.endswith('.pdf'):\n",
    "            try:\n",
    "                print(file)\n",
    "\n",
    "                pdfFile = open(folder+file, 'rb')\n",
    "                pdfReader = PyPDF2.PdfFileReader(pdfFile)\n",
    "\n",
    "                for page in trange(pdfReader.numPages):\n",
    "                    page = pdfReader.getPage(page)\n",
    "                    text.append(page.extractText().split('\\n'))\n",
    "                    \n",
    "            except TypeError as e:\n",
    "                print(e)\n",
    "                \n",
    "        dct[file.split(\".pdf\")[0]]=text\n",
    "    print(\"DONE\")\n",
    "    return dct"
   ]
  },
  {
   "cell_type": "code",
   "execution_count": 18,
   "metadata": {},
   "outputs": [
    {
     "name": "stderr",
     "output_type": "stream",
     "text": [
      " 29%|██▊       | 2/7 [00:00<00:00, 15.05it/s]"
     ]
    },
    {
     "name": "stdout",
     "output_type": "stream",
     "text": [
      "23 in total\n",
      "Gross_Water2D_JPCC_2016.pdf\n"
     ]
    },
    {
     "name": "stderr",
     "output_type": "stream",
     "text": [
      "100%|██████████| 7/7 [00:00<00:00, 22.16it/s]\n",
      " 38%|███▊      | 3/8 [00:00<00:00, 21.72it/s]"
     ]
    },
    {
     "name": "stdout",
     "output_type": "stream",
     "text": [
      "Gross_ElectroChimicaActa_2016.pdf\n"
     ]
    },
    {
     "name": "stderr",
     "output_type": "stream",
     "text": [
      "100%|██████████| 8/8 [00:00<00:00, 29.47it/s]\n",
      " 17%|█▋        | 1/6 [00:00<00:00,  6.01it/s]"
     ]
    },
    {
     "name": "stdout",
     "output_type": "stream",
     "text": [
      "Gross_Schmickler_ElectrochActa_2013.pdf\n"
     ]
    },
    {
     "name": "stderr",
     "output_type": "stream",
     "text": [
      "100%|██████████| 6/6 [00:00<00:00,  6.10it/s]\n",
      " 43%|████▎     | 3/7 [00:00<00:00, 26.79it/s]"
     ]
    },
    {
     "name": "stdout",
     "output_type": "stream",
     "text": [
      "Gross_PtW_Electrochem_PCCP_2020.pdf\n"
     ]
    },
    {
     "name": "stderr",
     "output_type": "stream",
     "text": [
      "100%|██████████| 7/7 [00:00<00:00, 30.02it/s]\n",
      " 31%|███       | 4/13 [00:00<00:00, 24.24it/s]"
     ]
    },
    {
     "name": "stdout",
     "output_type": "stream",
     "text": [
      "Gross_Electrochem_JCP_2015.pdf\n"
     ]
    },
    {
     "name": "stderr",
     "output_type": "stream",
     "text": [
      "100%|██████████| 13/13 [00:00<00:00, 13.60it/s]\n",
      " 50%|█████     | 2/4 [00:00<00:00, 14.03it/s]"
     ]
    },
    {
     "name": "stdout",
     "output_type": "stream",
     "text": [
      "Trasatti_Co3O4_ElectrActa_1995.pdf\n"
     ]
    },
    {
     "name": "stderr",
     "output_type": "stream",
     "text": [
      "100%|██████████| 4/4 [00:00<00:00, 14.82it/s]\n",
      " 17%|█▋        | 2/12 [00:00<00:00, 19.76it/s]"
     ]
    },
    {
     "name": "stdout",
     "output_type": "stream",
     "text": [
      "Gross_ACSCatalysis_2016.pdf\n"
     ]
    },
    {
     "name": "stderr",
     "output_type": "stream",
     "text": [
      "100%|██████████| 12/12 [00:00<00:00, 22.19it/s]\n",
      " 29%|██▊       | 2/7 [00:00<00:00, 19.70it/s]"
     ]
    },
    {
     "name": "stdout",
     "output_type": "stream",
     "text": [
      "Gross_Electrode_JPCC_2017.pdf\n"
     ]
    },
    {
     "name": "stderr",
     "output_type": "stream",
     "text": [
      "100%|██████████| 7/7 [00:00<00:00, 22.07it/s]\n",
      "100%|██████████| 1/1 [00:00<00:00, 36.41it/s]\n",
      " 40%|████      | 4/10 [00:00<00:00, 38.81it/s]"
     ]
    },
    {
     "name": "stdout",
     "output_type": "stream",
     "text": [
      "Gross_SurfScience_2015.pdf\n",
      "Gross_WaterPt_JCP_2016.pdf\n"
     ]
    },
    {
     "name": "stderr",
     "output_type": "stream",
     "text": [
      "100%|██████████| 10/10 [00:00<00:00, 24.90it/s]\n",
      " 17%|█▋        | 1/6 [00:00<00:00,  6.45it/s]"
     ]
    },
    {
     "name": "stdout",
     "output_type": "stream",
     "text": [
      "Gross_Catalysis_2016.pdf\n"
     ]
    },
    {
     "name": "stderr",
     "output_type": "stream",
     "text": [
      "100%|██████████| 6/6 [00:01<00:00,  5.28it/s]\n",
      " 38%|███▊      | 3/8 [00:00<00:00, 26.71it/s]"
     ]
    },
    {
     "name": "stdout",
     "output_type": "stream",
     "text": [
      "Gross_JPowerSources_2015.pdf\n"
     ]
    },
    {
     "name": "stderr",
     "output_type": "stream",
     "text": [
      "100%|██████████| 8/8 [00:00<00:00, 28.10it/s]\n",
      "100%|██████████| 1/1 [00:00<00:00, 25.16it/s]\n",
      " 15%|█▍        | 5/34 [00:00<00:00, 44.21it/s]"
     ]
    },
    {
     "name": "stdout",
     "output_type": "stream",
     "text": [
      "Gross_Preface_SurfSc_2014.pdf\n",
      "Gross_REVIEW_HMM_Structure_Electrode-Electrolyte_2018_Springer.pdf\n"
     ]
    },
    {
     "name": "stderr",
     "output_type": "stream",
     "text": [
      "100%|██████████| 34/34 [00:18<00:00,  1.88it/s]\n",
      " 50%|█████     | 4/8 [00:00<00:00, 35.82it/s]"
     ]
    },
    {
     "name": "stdout",
     "output_type": "stream",
     "text": [
      "Gross_WaterAtPt_JCP_2016.pdf\n"
     ]
    },
    {
     "name": "stderr",
     "output_type": "stream",
     "text": [
      "100%|██████████| 8/8 [00:00<00:00, 36.09it/s]\n",
      " 22%|██▏       | 2/9 [00:00<00:00, 17.88it/s]"
     ]
    },
    {
     "name": "stdout",
     "output_type": "stream",
     "text": [
      "Trasatti_SurfScience_1995.pdf\n"
     ]
    },
    {
     "name": "stderr",
     "output_type": "stream",
     "text": [
      "100%|██████████| 9/9 [00:00<00:00, 14.15it/s]\n",
      " 27%|██▋       | 7/26 [00:00<00:00, 65.00it/s]"
     ]
    },
    {
     "name": "stdout",
     "output_type": "stream",
     "text": [
      "Gross_NewJPhysics_2009.pdf\n"
     ]
    },
    {
     "name": "stderr",
     "output_type": "stream",
     "text": [
      "100%|██████████| 26/26 [00:01<00:00, 19.40it/s]\n",
      "  0%|          | 0/10 [00:00<?, ?it/s]"
     ]
    },
    {
     "name": "stdout",
     "output_type": "stream",
     "text": [
      "Gross_Electrocatalysis_2017.pdf\n"
     ]
    },
    {
     "name": "stderr",
     "output_type": "stream",
     "text": [
      "100%|██████████| 10/10 [00:01<00:00,  9.56it/s]\n",
      " 12%|█▎        | 1/8 [00:00<00:01,  6.96it/s]"
     ]
    },
    {
     "name": "stdout",
     "output_type": "stream",
     "text": [
      "Gross_CatalysisToday_2013.pdf\n"
     ]
    },
    {
     "name": "stderr",
     "output_type": "stream",
     "text": [
      "100%|██████████| 8/8 [00:01<00:00,  5.66it/s]\n",
      "100%|██████████| 6/6 [00:00<00:00, 34.57it/s]\n",
      "  0%|          | 0/5 [00:00<?, ?it/s]"
     ]
    },
    {
     "name": "stdout",
     "output_type": "stream",
     "text": [
      "Gross_RPBE_liqW_JCP_2014.pdf\n",
      "Bocquet_Filhol_CPL_2007.pdf\n"
     ]
    },
    {
     "name": "stderr",
     "output_type": "stream",
     "text": [
      "100%|██████████| 5/5 [00:00<00:00, 45.82it/s]\n",
      " 17%|█▋        | 2/12 [00:00<00:00, 11.77it/s]"
     ]
    },
    {
     "name": "stdout",
     "output_type": "stream",
     "text": [
      "Gross_WetNickel_PCCP_2017.pdf\n"
     ]
    },
    {
     "name": "stderr",
     "output_type": "stream",
     "text": [
      "100%|██████████| 12/12 [00:00<00:00, 24.83it/s]"
     ]
    },
    {
     "name": "stdout",
     "output_type": "stream",
     "text": [
      "DONE\n"
     ]
    },
    {
     "name": "stderr",
     "output_type": "stream",
     "text": [
      "\n"
     ]
    }
   ],
   "source": [
    "# texts = pdf2text('au-water-edl/')\n",
    "texts = pdf2text('GROSS_A/')"
   ]
  },
  {
   "cell_type": "code",
   "execution_count": 19,
   "metadata": {},
   "outputs": [],
   "source": [
    "# qu = ['Au(111)', 'Au (111)', '(111)', '553']\n",
    "# qu=['temp', 'temperature', 'room']\n",
    "# qu=['exchange-correlation','layer', 'optimized', 'optimised']\n",
    "# qu=['vacuum']\n",
    "# qu=['hydrophilic', 'hydrop']\n",
    "qu=['workfunction']"
   ]
  },
  {
   "cell_type": "code",
   "execution_count": 20,
   "metadata": {},
   "outputs": [],
   "source": [
    "def query4kw(texts, qu):\n",
    "    for k,v in texts.items():\n",
    "        for ind, page in enumerate(v):\n",
    "            for i, line in enumerate(page):\n",
    "                res = [ele for ele in qu if ele in line]\n",
    "                if any(res):\n",
    "        \n",
    "                    print(f\"{k}:, {ind+1}, {i}, {line}\")"
   ]
  },
  {
   "cell_type": "code",
   "execution_count": 21,
   "metadata": {},
   "outputs": [
    {
     "name": "stdout",
     "output_type": "stream",
     "text": [
      "Gross_ElectroChimicaActa_2016:, 1, 35, surface.Theseadsorbedanionschangetheworkfunctionofthe\n",
      "Gross_ElectroChimicaActa_2016:, 2, 68, anomalousworkfunctionchange:itleadstoadecreaseofthe\n",
      "Gross_ElectroChimicaActa_2016:, 2, 69, workfunctioninsteadofanincreaseaswouldbeexpectedfrom\n",
      "Gross_ElectroChimicaActa_2016:, 4, 90, reductionofthemetalworkfunctionatlowcoverages\n",
      "Gross_ElectroChimicaActa_2016:, 4, 92, principle,onewouldexpectanincreaseintheworkfunctionupon\n",
      "Gross_ElectroChimicaActa_2016:, 5, 13, tiononPt(111)alsoleadstoasmalldecreaseintheworkfunction\n",
      "Gross_PtW_Electrochem_PCCP_2020:, 5, 38, beenderivedfromtheaveragedworkfunctionofthewater\n",
      "Gross_ACSCatalysis_2016:, 7, 107, matterwhethertheworkfunctionchangesalongthereaction\n",
      "Gross_ACSCatalysis_2016:, 7, 129, potentialthroughthedeterminationoftheworkfunction.\n",
      "Gross_WaterPt_JCP_2016:, 2, 21, averagealongthetrajectory,ameanworkfunctionof5.01Visderived,givingapotentialofzero\n",
      "Gross_WaterPt_JCP_2016:, 3, 12, totheworkfunctionofametalinthepresenceofaliquid\n",
      "Gross_WaterPt_JCP_2016:, 3, 15, theworkfunctionofawater-coveredmetalelectrodedepends\n",
      "Gross_WaterPt_JCP_2016:, 3, 31, toTrasatti,isgivenbytheworkfunctionofametalcovered\n",
      "Gross_WaterPt_JCP_2016:, 9, 54, workfunctionofthemetalcoveredwithanion-freewater\n",
      "Gross_WaterPt_JCP_2016:, 9, 58, 55Wehavecollectedtheworkfunctionat\n",
      "Gross_WaterPt_JCP_2016:, 9, 66, workfunctionisvisible,whichisalsoreßectedinasimilar\n",
      "Gross_WaterPt_JCP_2016:, 9, 73, ofthewaterdipoleresultingintheworkfunctiondrop.The\n",
      "Gross_WaterPt_JCP_2016:, 9, 74, largesizeoftheworkfunctionchangeisprobablyduetothe\n",
      "Gross_WaterPt_JCP_2016:, 9, 77, Still,thedistributionoftheworkfunctionisGaussian-like\n",
      "Gross_WaterPt_JCP_2016:, 9, 81, Calculatedworkfunctionofthewater-coveredPt(111)slabalong\n",
      "Gross_WaterPt_JCP_2016:, 9, 83, Intheinset,thedistributionintheworkfunctionisshowntogetherwitha\n",
      "Gross_WaterPt_JCP_2016:, 9, 85, Themeanworkfunctionofthetrajectoryis5.01V,which\n",
      "Gross_WaterPt_JCP_2016:, 9, 94, Notethattheworkfunctionofawater\n",
      "Gross_WaterPt_JCP_2016:, 9, 123, averageworkfunctionalongthetrajectory,apotentialof\n",
      "Gross_REVIEW_HMM_Structure_Electrode-Electrolyte_2018_Springer:, 6, 30, toaworkfunctiondecrease,butinfactchlorineadsorptiononPt(111)causesan\n",
      "Gross_REVIEW_HMM_Structure_Electrode-Electrolyte_2018_Springer:, 6, 31, anomalousdecreaseoftheworkfunctionforchlorinecoveragebelow\n",
      "Gross_REVIEW_HMM_Structure_Electrode-Electrolyte_2018_Springer:, 14, 56, theworkfunctionchangeofelectrodesuponwateradsorptionsensitivelydepends\n",
      "Gross_REVIEW_HMM_Structure_Electrode-Electrolyte_2018_Springer:, 14, 59, theH-upandH-downwaterstructurescauseworkfunctionchangesthatdifferby\n",
      "Gross_REVIEW_HMM_Structure_Electrode-Electrolyte_2018_Springer:, 14, 64, 8.Thecomparisonwiththeexperimentallymeasuredworkfunctionchanges\n",
      "Gross_REVIEW_HMM_Structure_Electrode-Electrolyte_2018_Springer:, 15, 24, workfunctionsforthesesystemslieinbetweenthosecalculatedfortheH-upand\n",
      "Gross_REVIEW_HMM_Structure_Electrode-Electrolyte_2018_Springer:, 15, 28, 8,alsocalculatedworkfunctionchangesaveragedoverAIMDrunsfor\n",
      "Gross_REVIEW_HMM_Structure_Electrode-Electrolyte_2018_Springer:, 15, 31, discrepancybetweenmeasuredandcalculatedworkfunctionchangesisstrongly\n",
      "Gross_REVIEW_HMM_Structure_Electrode-Electrolyte_2018_Springer:, 15, 40, 1.Thedeterminationoftheworkfunctionisnotonlyimportanttoderivethemean\n",
      "Gross_REVIEW_HMM_Structure_Electrode-Electrolyte_2018_Springer:, 15, 45, potentialofzerocharge(pzc)isgivenbytheworkfunctionofanelectrodecovered\n",
      "Gross_REVIEW_HMM_Structure_Electrode-Electrolyte_2018_Springer:, 16, 6, 2009).ForRu,alsotheworkfunctionchangeinducedbythehalf-dissociatedwater\n",
      "Gross_REVIEW_HMM_Structure_Electrode-Electrolyte_2018_Springer:, 16, 7, layerisincluded.Furthermore,theaverageworkfunctionchangedeterminedinAIMDrunswith\n",
      "Gross_REVIEW_HMM_Structure_Electrode-Electrolyte_2018_Springer:, 16, 25, 9,theworkfunctioncalculatedalongthis\n",
      "Gross_REVIEW_HMM_Structure_Electrode-Electrolyte_2018_Springer:, 16, 26, runfortheÞrst30psisplotted.Onshorttimescales,theworkfunctioncanvary\n",
      "Gross_REVIEW_HMM_Structure_Electrode-Electrolyte_2018_Springer:, 16, 31, distributionoftheworkfunctionalongtheAIMDrunisplottedintheinsetofFig.\n",
      "Gross_REVIEW_HMM_Structure_Electrode-Electrolyte_2018_Springer:, 16, 36, yieldsameanvalueoftheworkfunctionof4.88Vwhichisinrathergoodagreement\n",
      "Gross_REVIEW_HMM_Structure_Electrode-Electrolyte_2018_Springer:, 17, 6, Calculatedworkfunctionofthewater-coveredPt(111)slabalonganAIMDtrajectoryof\n",
      "Gross_REVIEW_HMM_Structure_Electrode-Electrolyte_2018_Springer:, 17, 9, averagedover5ps.ThedistributionintheworkfunctionisshowntogetherwithaGaussianÞtthat\n",
      "Gross_REVIEW_HMM_Structure_Electrode-Electrolyte_2018_Springer:, 17, 12, theworkfunctionisobservable.Yet,runningthesimulationsforfurther10psdoes\n",
      "Gross_REVIEW_HMM_Structure_Electrode-Electrolyte_2018_Springer:, 23, 29, theelectrode,inprinciplethecorrespondingworkfunctionneedstobeevalu-\n",
      "Gross_REVIEW_HMM_Structure_Electrode-Electrolyte_2018_Springer:, 24, 14, 2001),theworkfunctioncanbe\n",
      "Gross_REVIEW_HMM_Structure_Electrode-Electrolyte_2018_Springer:, 24, 29, z=zref,theworkfunctioncanbederivedusing\n",
      "Gross_REVIEW_HMM_Structure_Electrode-Electrolyte_2018_Springer:, 24, 51, 2006),butstillnoworkfunctioncandirectly\n",
      "Gross_REVIEW_HMM_Structure_Electrode-Electrolyte_2018_Springer:, 25, 56, changesintheworkfunctionwhichthenalterthecorrespondingelectrodepotential.\n",
      "Gross_REVIEW_HMM_Structure_Electrode-Electrolyte_2018_Springer:, 25, 58, ofthesurfaceunitcell,thentheassociatedworkfunctionchange,whichcorresponds\n",
      "Gross_REVIEW_HMM_Structure_Electrode-Electrolyte_2018_Springer:, 26, 17, distributionandconsequentlytheworkfunctionandalsotheelectrodepotential.\n",
      "Gross_REVIEW_HMM_Structure_Electrode-Electrolyte_2018_Springer:, 27, 4, Illustrationofhowtheworkfunctionandthustheelectrodepotentialischangedby\n",
      "Gross_REVIEW_HMM_Structure_Electrode-Electrolyte_2018_Springer:, 27, 14, Theaddedhydrogenatomschangetheworkfunctionoftheelectrode-electrolyte\n",
      "Gross_REVIEW_HMM_Structure_Electrode-Electrolyte_2018_Springer:, 27, 34, intoaccountthattheworkfunctioncannotonlybeadjustedbychangingthenumber\n",
      "Gross_REVIEW_HMM_Structure_Electrode-Electrolyte_2018_Springer:, 28, 2, function,differentconÞgurationscanbebinnedaccordingtotheirworkfunction.\n",
      "Gross_REVIEW_HMM_Structure_Electrode-Electrolyte_2018_Springer:, 32, 53, PetriiOA(2013)Zerochargepotentialsofplatinummetalsandelectronworkfunctions(review).\n",
      "Gross_NewJPhysics_2009:, 2, 17, water-inducedreductionoftheworkfunctioninspiteoftheweakwaterÐmetal\n",
      "Gross_NewJPhysics_2009:, 4, 23, andH-upwaterbilayersontheworkfunctionofmetalsurfacesdependsstronglyonthetype\n",
      "Gross_NewJPhysics_2009:, 4, 25, differencesintheworkfunctionchangeinducedbythetwotypesofbilayerscanbemorethan\n",
      "Gross_NewJPhysics_2009:, 4, 31, bilayerslowertheworkfunctioninspiteofthesmallinßuenceontheelectronicstructureofthe\n",
      "Gross_NewJPhysics_2009:, 4, 42, willthenaddressthesurprisingchangeoftheworkfunctionupontheadsorptionofwater\n",
      "Gross_NewJPhysics_2009:, 7, 4, CalculatedworkfunctionchangeinducedbythepresenceofH-up\n",
      "Gross_NewJPhysics_2009:, 7, 7, Ru(0001).ForRu,alsotheworkfunctionchangeinducedbythehalf-dissociated\n",
      "Gross_NewJPhysics_2009:, 7, 9, YetitisknownthattheworkfunctionofmanymetalsurfacesissigniÞcantlyreducedupon\n",
      "Gross_NewJPhysics_2009:, 7, 12, 2,wehaveplottedthecalculatedworkfunction\n",
      "Gross_NewJPhysics_2009:, 7, 14, onAu(111)andRu(0001).ForRu,wealsodeterminedtheworkfunctionchangeinducedby\n",
      "Gross_NewJPhysics_2009:, 7, 16, Firstofallitisobviousthatthewater-inducedworkfunctionchangesensitivelydependson\n",
      "Gross_NewJPhysics_2009:, 7, 17, theorientationofthewaterbilayer.Thedifferenceintheinducedworkfunctionchangebetween\n",
      "Gross_NewJPhysics_2009:, 7, 24, workfunctionchangeforbothorientationsofthewaterbilayers.ForPt(111),Pd\n",
      "Gross_NewJPhysics_2009:, 7, 25, /Au(111)andRu(0001),theworkfunctionisevenloweredduetothepresenceofthewaterbilayers\n",
      "Gross_NewJPhysics_2009:, 7, 27, andtheH-upbilayerlowerstheworkfunctionbythesameamountbecauseoftheiropposite\n",
      "Gross_NewJPhysics_2009:, 7, 28, dipolemoments.Instead,thereisanoveralltendencytolowertheworkfunctionthatrises\n",
      "Gross_NewJPhysics_2009:, 8, 22, dipolelayerwithadipolemomentthatreducestheworkfunction.FortheH-downbilayer,this\n",
      "Gross_NewJPhysics_2009:, 8, 24, workfunctionreductiononPt(111),whereasfortheH-upbilayer,thesetwodipolemoments\n",
      "Gross_NewJPhysics_2009:, 8, 48, oftheworkfunctioninducedbyultrathinoxidelayersonmetalsurfaces[\n",
      "Gross_NewJPhysics_2009:, 10, 10, downinordertoexplainthesubstantialwater-inducedworkfunctionchangeofmetalsurfaces,\n",
      "Gross_NewJPhysics_2009:, 10, 12, 1].Experimentally,water-inducedworkfunctionchangesof\n",
      "Gross_NewJPhysics_2009:, 10, 24, systemssuchasworkfunctionchangesareusuallyreliablyreproducedinDFTcalculations[\n",
      "Gross_NewJPhysics_2009:, 10, 25, 51].Sincetheworkfunctionmeasurementsareusuallycarriedoutatcryogenictemperatures[\n",
      "Gross_NewJPhysics_2009:, 10, 30, toaworkfunctionwithintermediatevaluesbetweenthoseoftheH-upandtheH-downwater\n",
      "Gross_NewJPhysics_2009:, 16, 41, 1(c)demonstrates.Finally,weliketoaddresstheworkfunctionofthethermalizedwaterlayers.InÞgure\n",
      "Gross_NewJPhysics_2009:, 16, 42, 10,wehaveplottedthetimeevolutionofthecalculatedworkfunctionchangeforwater-covered\n",
      "Gross_NewJPhysics_2009:, 16, 45, workfunctionsbecomeverysimilarinbothAIMDruns.Thisshowsthatatthermalconditions\n",
      "Gross_NewJPhysics_2009:, 16, 49, 67].Themeasuredworkfunctionchangesattemperaturesbelow140K[\n",
      "Gross_NewJPhysics_2009:, 16, 51, reasonablyclosetoourcalculatedmeanvalueoftheworkfunctionchangeinÞgure\n",
      "Gross_NewJPhysics_2009:, 16, 54, 2).Thisindicatesthattheworkfunctionchangesmeasuredbelow\n",
      "Gross_NewJPhysics_2009:, 16, 60, increaseintheworkfunctionuponheatingthesystem[\n",
      "Gross_NewJPhysics_2009:, 17, 2, TimeevolutionoftheworkfunctionintheAIMDrunsofH-upand\n",
      "Gross_NewJPhysics_2009:, 17, 4, ofthehalf-dissociatedwaterlayeronRu(0001)whoseworkfunctionissigniÞcantlyhigher\n",
      "Gross_NewJPhysics_2009:, 17, 7, Au(111)workfunctionschangesweremeasured[\n",
      "Gross_NewJPhysics_2009:, 19, 23, ''andtheworkfunctionofthemetalÐwaterinterfacearecomputationallywelldeÞned,\n",
      "Gross_NewJPhysics_2009:, 20, 18, generalalsoalterstheworkfunctionoftheelectrodethatisdirectlyrelatedtotheelectrode\n",
      "Gross_NewJPhysics_2009:, 21, 8, 13.Thehydrogencoverageinßuencestheworkfunction\n",
      "Gross_NewJPhysics_2009:, 23, 26, onmetalsurfacesbecomestronglypolarizedwhichinducesaworkfunctionreductionatthe\n",
      "Gross_NewJPhysics_2009:, 24, 6, H-uporanH-downstructurecanbemade.Thisisalsoreßectedintheworkfunctionchanges\n",
      "Gross_Electrocatalysis_2017:, 8, 67, Changeoftheworkfunctionofplatinumelectrodesinduced\n",
      "Bocquet_Filhol_CPL_2007:, 1, 44, !erentfactorssuchasworkfunction\n",
      "Bocquet_Filhol_CPL_2007:, 2, 49, Vandisnumericallytheoppositeoftheworkfunction(in\n",
      "Bocquet_Filhol_CPL_2007:, 2, 117, energyEadperwatermoleculeandworkfunction\n",
      "Bocquet_Filhol_CPL_2007:, 2, 119, calculatedworkfunctionofabareneutralPdsurfaceis5.2V.(For\n",
      "Bocquet_Filhol_CPL_2007:, 3, 24, H-downphases,theirworkfunctionsdi\n",
      "Bocquet_Filhol_CPL_2007:, 3, 92, potential.Vistheoppositeoftheworkfunction(ineV)ofthesurface.In\n",
      "Bocquet_Filhol_CPL_2007:, 4, 71, &0.9V(vs.Pdworkfunction).Thenewlyproposedbiased\n",
      "Gross_WetNickel_PCCP_2017:, 2, 37, consistentwithexperimentalobservations.Anothertheoreticalobservationistheincreasedworkfunction\n",
      "Gross_WetNickel_PCCP_2017:, 3, 34, workfunctionandtheelectrostaticchargingpropertiesof\n",
      "Gross_WetNickel_PCCP_2017:, 7, 70, systems.Theworkfunctionisgivenbythedi\n",
      "Gross_WetNickel_PCCP_2017:, 7, 77, tionoftheworkfunctionyieldsavalueof3.87eV.Thisvalue\n",
      "Gross_WetNickel_PCCP_2017:, 7, 81, H-downconfigurationincreasestheworkfunctionto4.62eV,\n",
      "Gross_WetNickel_PCCP_2017:, 7, 86, b-NiOOH(001)surfacetheworkfunction\n",
      "Gross_WetNickel_PCCP_2017:, 7, 88, workfunctionforthissurfaceis5.3eV.\n",
      "Gross_WetNickel_PCCP_2017:, 7, 90, theH-downwaterlayertheworkfunctionshiftsto5.56eV.As\n",
      "Gross_WetNickel_PCCP_2017:, 7, 97, cantincreaseintheworkfunctionforthe\n",
      "Gross_WetNickel_PCCP_2017:, 7, 99, Additionally,wenoticethattheincreaseintheworkfunction\n",
      "Gross_WetNickel_PCCP_2017:, 8, 5, workfunctionlowerforthissystem,asalsodiscussedinref.39\n",
      "Gross_WetNickel_PCCP_2017:, 8, 44, b-NiOOH(001)slabterminatedwith50%OHÐ50%O.Calculatedworkfunctionvaluesareincludedandcomparedto\n",
      "Gross_WetNickel_PCCP_2017:, 10, 35, Moreover,calculatedworkfunctionvaluesforthetwosurfaces\n"
     ]
    }
   ],
   "source": [
    "query4kw(texts, qu)"
   ]
  },
  {
   "cell_type": "code",
   "execution_count": null,
   "metadata": {},
   "outputs": [],
   "source": []
  },
  {
   "cell_type": "code",
   "execution_count": null,
   "metadata": {},
   "outputs": [],
   "source": []
  }
 ],
 "metadata": {
  "kernelspec": {
   "display_name": "Python 3",
   "language": "python",
   "name": "python3"
  },
  "language_info": {
   "codemirror_mode": {
    "name": "ipython",
    "version": 3
   },
   "file_extension": ".py",
   "mimetype": "text/x-python",
   "name": "python",
   "nbconvert_exporter": "python",
   "pygments_lexer": "ipython3",
   "version": "3.9.0"
  }
 },
 "nbformat": 4,
 "nbformat_minor": 4
}

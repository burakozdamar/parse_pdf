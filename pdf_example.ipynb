{
 "cells": [
  {
   "cell_type": "code",
   "execution_count": 1,
   "metadata": {},
   "outputs": [],
   "source": [
    "import PyPDF2\n",
    "import os\n",
    "from tqdm import trange "
   ]
  },
  {
   "cell_type": "code",
   "execution_count": 2,
   "metadata": {},
   "outputs": [],
   "source": [
    "# for file in os.listdir('.'):\n",
    "    \n",
    "#     text_dict={}\n",
    "#     text=[]\n",
    "\n",
    "#     try:   \n",
    "#         if file.endswith('.pdf'):\n",
    "#             print(file.split('/')[-1])\n",
    "#             print('-'*8)\n",
    "#             file = open(file, 'rb')\n",
    "#             pdfReader = PyPDF2.PdfFileReader(file)\n",
    "\n",
    "#             for page in range(pdfReader.numPages):\n",
    "#                 page = pdfReader.getPage(page)\n",
    "#                 text.append(page.extractText().split('\\n'))\n",
    "\n",
    "#         qu = ['Au(111)', 'Au (111)', '(111)', '111']\n",
    "#     #     qu = ['111']\n",
    "\n",
    "#         for page_num, page in enumerate(text):\n",
    "#             for line_num, line in enumerate(page):\n",
    "\n",
    "#                 res = [ele for ele in qu if ele in line] \n",
    "\n",
    "#                 if any(res):\n",
    "\n",
    "#                     print(page_num+1,line_num, line)\n",
    "\n",
    "#         print('='*8)\n",
    "#     except:\n",
    "#         pass"
   ]
  },
  {
   "cell_type": "code",
   "execution_count": 3,
   "metadata": {},
   "outputs": [],
   "source": [
    "def pdf2text(folder):\n",
    "    dct={}\n",
    "    print(f\"{len(os.listdir(folder))} in total\")\n",
    "    for file in os.listdir(folder):\n",
    "        \n",
    "        text=[]\n",
    "        \n",
    "        if file.endswith('.pdf'):\n",
    "            try:\n",
    "                print(file)\n",
    "\n",
    "                pdfFile = open(folder+file, 'rb')\n",
    "                pdfReader = PyPDF2.PdfFileReader(pdfFile)\n",
    "\n",
    "                for page in trange(pdfReader.numPages):\n",
    "                    page = pdfReader.getPage(page)\n",
    "                    text.append(page.extractText().split('\\n'))\n",
    "                    \n",
    "            except TypeError as e:\n",
    "                print(e)\n",
    "                \n",
    "        dct[file.split(\".pdf\")[0]]=text\n",
    "    print(\"DONE\")\n",
    "    return dct"
   ]
  },
  {
   "cell_type": "code",
   "execution_count": 4,
   "metadata": {},
   "outputs": [
    {
     "name": "stderr",
     "output_type": "stream",
     "text": [
      "100%|██████████| 10/10 [00:00<00:00, 214.80it/s]\n",
      "  0%|          | 0/14 [00:00<?, ?it/s]"
     ]
    },
    {
     "name": "stdout",
     "output_type": "stream",
     "text": [
      "57 in total\n",
      "Le2018-SI.pdf\n",
      "cicero2011-SI.pdf\n"
     ]
    },
    {
     "name": "stderr",
     "output_type": "stream",
     "text": [
      "100%|██████████| 14/14 [00:00<00:00, 108.26it/s]\n",
      "100%|██████████| 17/17 [00:00<00:00, 154.01it/s]\n",
      "  0%|          | 0/14 [00:00<?, ?it/s]"
     ]
    },
    {
     "name": "stdout",
     "output_type": "stream",
     "text": [
      "SI_AIMD_benchmark_solvation.pdf\n",
      "berg2017.pdf\n"
     ]
    },
    {
     "name": "stderr",
     "output_type": "stream",
     "text": [
      "100%|██████████| 14/14 [00:00<00:00, 35.29it/s]\n",
      "100%|██████████| 7/7 [00:00<00:00, 36.29it/s]\n",
      "PdfReadWarning: Xref table not zero-indexed. ID numbers for objects will be corrected. [pdf.py:1736]\n"
     ]
    },
    {
     "name": "stdout",
     "output_type": "stream",
     "text": [
      "chan2019.pdf\n",
      "baldelli2008.pdf\n"
     ]
    },
    {
     "name": "stderr",
     "output_type": "stream",
     "text": [
      "100%|██████████| 11/11 [00:00<00:00, 74.04it/s]\n",
      "100%|██████████| 5/5 [00:00<00:00, 59.91it/s]\n",
      " 86%|████████▌ | 6/7 [00:00<00:00, 55.67it/s]"
     ]
    },
    {
     "name": "stdout",
     "output_type": "stream",
     "text": [
      "nakamura2009.pdf\n",
      "kolb2014.pdf\n"
     ]
    },
    {
     "name": "stderr",
     "output_type": "stream",
     "text": [
      "100%|██████████| 7/7 [00:00<00:00, 51.63it/s]\n",
      "100%|██████████| 7/7 [00:00<00:00, 55.88it/s]\n",
      "  0%|          | 0/18 [00:00<?, ?it/s]"
     ]
    },
    {
     "name": "stdout",
     "output_type": "stream",
     "text": [
      "tonigold2012.pdf\n",
      "yeh2013.pdf\n"
     ]
    },
    {
     "name": "stderr",
     "output_type": "stream",
     "text": [
      "100%|██████████| 18/18 [00:01<00:00,  9.83it/s]\n",
      "  0%|          | 0/9 [00:00<?, ?it/s]"
     ]
    },
    {
     "name": "stdout",
     "output_type": "stream",
     "text": [
      "ibach2010.pdf\n"
     ]
    },
    {
     "name": "stderr",
     "output_type": "stream",
     "text": [
      "100%|██████████| 9/9 [00:06<00:00,  1.37it/s]\n",
      " 45%|████▌     | 5/11 [00:00<00:00, 46.76it/s]"
     ]
    },
    {
     "name": "stdout",
     "output_type": "stream",
     "text": [
      "morales2013.pdf\n"
     ]
    },
    {
     "name": "stderr",
     "output_type": "stream",
     "text": [
      "100%|██████████| 11/11 [00:00<00:00, 48.95it/s]\n",
      " 14%|█▎        | 3/22 [00:00<00:00, 28.87it/s]"
     ]
    },
    {
     "name": "stdout",
     "output_type": "stream",
     "text": [
      "guymon2005.pdf\n"
     ]
    },
    {
     "name": "stderr",
     "output_type": "stream",
     "text": [
      "100%|██████████| 22/22 [00:00<00:00, 39.75it/s]\n",
      " 21%|██▏       | 3/14 [00:00<00:00, 25.13it/s]"
     ]
    },
    {
     "name": "stdout",
     "output_type": "stream",
     "text": [
      "ringe2019.pdf\n"
     ]
    },
    {
     "name": "stderr",
     "output_type": "stream",
     "text": [
      "100%|██████████| 14/14 [00:00<00:00, 48.67it/s]\n",
      " 40%|████      | 4/10 [00:00<00:00, 39.34it/s]"
     ]
    },
    {
     "name": "stdout",
     "output_type": "stream",
     "text": [
      "petit2017.pdf\n"
     ]
    },
    {
     "name": "stderr",
     "output_type": "stream",
     "text": [
      "100%|██████████| 10/10 [00:00<00:00, 45.38it/s]\n",
      "100%|██████████| 27/27 [00:00<00:00, 154.94it/s]\n",
      "  0%|          | 0/9 [00:00<?, ?it/s]"
     ]
    },
    {
     "name": "stdout",
     "output_type": "stream",
     "text": [
      "AIMD_benchmark_solvation.pdf\n",
      "cappa2006.pdf\n"
     ]
    },
    {
     "name": "stderr",
     "output_type": "stream",
     "text": [
      "100%|██████████| 9/9 [00:00<00:00, 52.26it/s]\n",
      "100%|██████████| 1/1 [00:00<00:00, 44.22it/s]\n",
      "100%|██████████| 7/7 [00:00<00:00, 62.18it/s]\n",
      "  0%|          | 0/7 [00:00<?, ?it/s]"
     ]
    },
    {
     "name": "stdout",
     "output_type": "stream",
     "text": [
      "Masterarbeit_DoubleLayer_SS2016.pdf\n",
      "cappa2005.pdf\n",
      "schultz2005.pdf\n"
     ]
    },
    {
     "name": "stderr",
     "output_type": "stream",
     "text": [
      "100%|██████████| 7/7 [00:00<00:00, 48.71it/s]\n",
      "  9%|▉         | 1/11 [00:00<00:01,  7.71it/s]"
     ]
    },
    {
     "name": "stdout",
     "output_type": "stream",
     "text": [
      "pajkossy2018.pdf\n"
     ]
    },
    {
     "name": "stderr",
     "output_type": "stream",
     "text": [
      "100%|██████████| 11/11 [00:01<00:00,  9.23it/s]\n",
      " 36%|███▋      | 4/11 [00:00<00:00, 31.59it/s]"
     ]
    },
    {
     "name": "stdout",
     "output_type": "stream",
     "text": [
      "michaelides2006.pdf\n"
     ]
    },
    {
     "name": "stderr",
     "output_type": "stream",
     "text": [
      "100%|██████████| 11/11 [00:00<00:00, 29.61it/s]\n",
      "100%|██████████| 4/4 [00:00<00:00, 34.44it/s]\n",
      "  0%|          | 0/5 [00:00<?, ?it/s]"
     ]
    },
    {
     "name": "stdout",
     "output_type": "stream",
     "text": [
      "stacchiola2009.pdf\n",
      "le2018.pdf\n"
     ]
    },
    {
     "name": "stderr",
     "output_type": "stream",
     "text": [
      "100%|██████████| 5/5 [00:00<00:00, 26.29it/s]\n",
      "100%|██████████| 5/5 [00:00<00:00, 28.04it/s]\n",
      "  0%|          | 0/2 [00:00<?, ?it/s]"
     ]
    },
    {
     "name": "stdout",
     "output_type": "stream",
     "text": [
      "---cicero2011.pdf\n",
      "kawai2000.pdf\n"
     ]
    },
    {
     "name": "stderr",
     "output_type": "stream",
     "text": [
      "100%|██████████| 2/2 [00:00<00:00, 64.83it/s]\n",
      "100%|██████████| 9/9 [00:00<00:00, 55.83it/s]\n",
      "  0%|          | 0/6 [00:00<?, ?it/s]"
     ]
    },
    {
     "name": "stdout",
     "output_type": "stream",
     "text": [
      "hayes2011.pdf\n",
      "vanreijzen2011.pdf\n"
     ]
    },
    {
     "name": "stderr",
     "output_type": "stream",
     "text": [
      "100%|██████████| 6/6 [00:00<00:00, 37.52it/s]\n",
      "100%|██████████| 8/8 [00:00<00:00, 100.94it/s]\n",
      "  0%|          | 0/8 [00:00<?, ?it/s]"
     ]
    },
    {
     "name": "stdout",
     "output_type": "stream",
     "text": [
      "10.1002@anie.201710791.pdf\n",
      "le2017.pdf\n"
     ]
    },
    {
     "name": "stderr",
     "output_type": "stream",
     "text": [
      "100%|██████████| 8/8 [00:00<00:00, 23.09it/s]\n",
      "100%|██████████| 6/6 [00:00<00:00, 34.71it/s]\n",
      "  0%|          | 0/7 [00:00<?, ?it/s]"
     ]
    },
    {
     "name": "stdout",
     "output_type": "stream",
     "text": [
      "donadio2012.pdf\n",
      "pei2006.pdf\n"
     ]
    },
    {
     "name": "stderr",
     "output_type": "stream",
     "text": [
      "100%|██████████| 7/7 [00:00<00:00, 94.19it/s]\n",
      " 33%|███▎      | 3/9 [00:00<00:00, 27.81it/s]"
     ]
    },
    {
     "name": "stdout",
     "output_type": "stream",
     "text": [
      "pedroza2015.pdf\n"
     ]
    },
    {
     "name": "stderr",
     "output_type": "stream",
     "text": [
      "100%|██████████| 9/9 [00:00<00:00, 21.33it/s]\n",
      " 50%|█████     | 3/6 [00:00<00:00, 22.73it/s]"
     ]
    },
    {
     "name": "stdout",
     "output_type": "stream",
     "text": [
      "gross2014.pdf\n"
     ]
    },
    {
     "name": "stderr",
     "output_type": "stream",
     "text": [
      "100%|██████████| 6/6 [00:00<00:00, 23.45it/s]\n",
      "  0%|          | 0/9 [00:00<?, ?it/s]\n",
      "100%|██████████| 4/4 [00:00<00:00, 38.19it/s]\n",
      "100%|██████████| 2/2 [00:00<00:00, 40.79it/s]\n",
      "  0%|          | 0/7 [00:00<?, ?it/s]"
     ]
    },
    {
     "name": "stdout",
     "output_type": "stream",
     "text": [
      "spohr1999.pdf\n",
      "ord() expected string of length 1, but int found\n",
      "standop2010.pdf\n",
      "weeraman2006.pdf\n",
      "friedl2016.pdf\n"
     ]
    },
    {
     "name": "stderr",
     "output_type": "stream",
     "text": [
      "100%|██████████| 7/7 [00:00<00:00, 26.03it/s]\n",
      " 44%|████▍     | 4/9 [00:00<00:00, 39.59it/s]"
     ]
    },
    {
     "name": "stdout",
     "output_type": "stream",
     "text": [
      "pekoz2014.pdf\n"
     ]
    },
    {
     "name": "stderr",
     "output_type": "stream",
     "text": [
      "100%|██████████| 9/9 [00:00<00:00, 44.41it/s]\n",
      " 25%|██▌       | 3/12 [00:00<00:00, 27.38it/s]"
     ]
    },
    {
     "name": "stdout",
     "output_type": "stream",
     "text": [
      "huzayyin2014.pdf\n"
     ]
    },
    {
     "name": "stderr",
     "output_type": "stream",
     "text": [
      "100%|██████████| 12/12 [00:00<00:00, 33.33it/s]\n",
      "  0%|          | 0/6 [00:00<?, ?it/s]"
     ]
    },
    {
     "name": "stdout",
     "output_type": "stream",
     "text": [
      "willard2013.pdf\n"
     ]
    },
    {
     "name": "stderr",
     "output_type": "stream",
     "text": [
      "100%|██████████| 6/6 [00:01<00:00,  4.08it/s]\n",
      "  0%|          | 0/6 [00:00<?, ?it/s]"
     ]
    },
    {
     "name": "stdout",
     "output_type": "stream",
     "text": [
      "nihonyanagi2004.pdf\n"
     ]
    },
    {
     "name": "stderr",
     "output_type": "stream",
     "text": [
      "100%|██████████| 6/6 [00:00<00:00,  6.25it/s]\n",
      " 31%|███       | 4/13 [00:00<00:00, 37.38it/s]"
     ]
    },
    {
     "name": "stdout",
     "output_type": "stream",
     "text": [
      "kamalakannan2018.pdf\n"
     ]
    },
    {
     "name": "stderr",
     "output_type": "stream",
     "text": [
      "100%|██████████| 13/13 [00:00<00:00, 48.44it/s]\n",
      " 50%|█████     | 3/6 [00:00<00:00, 26.04it/s]"
     ]
    },
    {
     "name": "stdout",
     "output_type": "stream",
     "text": [
      "rigoulet2018.pdf\n"
     ]
    },
    {
     "name": "stderr",
     "output_type": "stream",
     "text": [
      "100%|██████████| 6/6 [00:00<00:00, 27.54it/s]\n",
      " 40%|████      | 4/10 [00:00<00:00, 35.99it/s]"
     ]
    },
    {
     "name": "stdout",
     "output_type": "stream",
     "text": [
      "j2015.pdf\n"
     ]
    },
    {
     "name": "stderr",
     "output_type": "stream",
     "text": [
      "100%|██████████| 10/10 [00:00<00:00, 30.01it/s]\n",
      "  0%|          | 0/6 [00:00<?, ?it/s]"
     ]
    },
    {
     "name": "stdout",
     "output_type": "stream",
     "text": [
      "le2017-pzc.pdf\n"
     ]
    },
    {
     "name": "stderr",
     "output_type": "stream",
     "text": [
      "100%|██████████| 6/6 [00:00<00:00,  6.62it/s]\n",
      " 67%|██████▋   | 8/12 [00:00<00:00, 64.23it/s]"
     ]
    },
    {
     "name": "stdout",
     "output_type": "stream",
     "text": [
      "iori2009.pdf\n"
     ]
    },
    {
     "name": "stderr",
     "output_type": "stream",
     "text": [
      "100%|██████████| 12/12 [00:00<00:00, 59.75it/s]\n",
      "100%|██████████| 6/6 [00:00<00:00, 34.62it/s]\n",
      "  0%|          | 0/13 [00:00<?, ?it/s]"
     ]
    },
    {
     "name": "stdout",
     "output_type": "stream",
     "text": [
      "li2019-in-situ.pdf\n",
      "nadler2012.pdf\n"
     ]
    },
    {
     "name": "stderr",
     "output_type": "stream",
     "text": [
      "100%|██████████| 13/13 [00:00<00:00, 34.32it/s]\n",
      " 45%|████▌     | 5/11 [00:00<00:00, 43.21it/s]"
     ]
    },
    {
     "name": "stdout",
     "output_type": "stream",
     "text": [
      "iori2008.pdf\n"
     ]
    },
    {
     "name": "stderr",
     "output_type": "stream",
     "text": [
      "100%|██████████| 11/11 [00:00<00:00, 40.99it/s]\n",
      "  0%|          | 0/12 [00:00<?, ?it/s]"
     ]
    },
    {
     "name": "stdout",
     "output_type": "stream",
     "text": [
      "gauthier2019.pdf\n"
     ]
    },
    {
     "name": "stderr",
     "output_type": "stream",
     "text": [
      "100%|██████████| 12/12 [00:01<00:00,  8.51it/s]\n",
      "  0%|          | 0/8 [00:00<?, ?it/s]"
     ]
    },
    {
     "name": "stdout",
     "output_type": "stream",
     "text": [
      "ncomms12695.pdf\n"
     ]
    },
    {
     "name": "stderr",
     "output_type": "stream",
     "text": [
      "100%|██████████| 8/8 [00:00<00:00,  8.43it/s]\n",
      "100%|██████████| 6/6 [00:00<00:00, 45.59it/s]\n",
      "  0%|          | 0/26 [00:00<?, ?it/s]"
     ]
    },
    {
     "name": "stdout",
     "output_type": "stream",
     "text": [
      "lin2012.pdf\n",
      "schnur2009.pdf\n"
     ]
    },
    {
     "name": "stderr",
     "output_type": "stream",
     "text": [
      "100%|██████████| 26/26 [00:00<00:00, 90.43it/s]"
     ]
    },
    {
     "name": "stdout",
     "output_type": "stream",
     "text": [
      "DONE\n"
     ]
    },
    {
     "name": "stderr",
     "output_type": "stream",
     "text": [
      "\n"
     ]
    }
   ],
   "source": [
    "texts = pdf2text('au-water-edl/')"
   ]
  },
  {
   "cell_type": "code",
   "execution_count": 78,
   "metadata": {},
   "outputs": [],
   "source": [
    "# qu = ['Au(111)', 'Au (111)', '(111)', '553']\n",
    "# qu=['temp', 'temperature', 'room']\n",
    "qu=['exchange-correlation','layer', 'optimized', 'optimised']\n",
    "qu=['vacuum']"
   ]
  },
  {
   "cell_type": "code",
   "execution_count": 79,
   "metadata": {},
   "outputs": [],
   "source": [
    "def query4kw(texts, qu):\n",
    "    for k,v in texts.items():\n",
    "        for ind, page in enumerate(v):\n",
    "            for i, line in enumerate(page):\n",
    "                res = [ele for ele in qu if ele in line]\n",
    "                if any(res):\n",
    "        \n",
    "                    print(f\"{k}:, {ind+1}, {i}, {line}\")"
   ]
  },
  {
   "cell_type": "code",
   "execution_count": 80,
   "metadata": {},
   "outputs": [
    {
     "name": "stdout",
     "output_type": "stream",
     "text": [
      "Le2018-SI:, 2, 7, Theperiodicslabsareseparatedwitha21Åvacuumregion,andthusthesizeofPt(111)\n",
      "Le2018-SI:, 2, 41, weremodelledbyfully˝llingthevacuumspaceinthemetalsurfacemodelswithwater,and\n",
      "SI_AIMD_benchmark_solvation:, 14, 13, (left),adsorptionenergyatthemetal/vacuuminterface\n",
      "SI_AIMD_benchmark_solvation:, 14, 27, theadsorbateatthemetal/vacuuminterfaceandadsorptionenergiesdeterminedinvacuum\n",
      "SI_AIMD_benchmark_solvation:, 15, 2, adsorbatesatthemetal/vacuuminterfacescalewith\n",
      "SI_AIMD_benchmark_solvation:, 15, 79, energyofasinglewatermoleculeatthemetal/vacuuminterfaceasshowninFig.\n",
      "SI_AIMD_benchmark_solvation:, 16, 8, withthelowestadsorptionenergyofasinglewatermoleculeatthemetal/vacuum\n",
      "berg2017:, 2, 84, thevacuumwhichwasfoundtobelargeenoughforthissetup\n",
      "chan2019:, 1, 24, nanoclusters,metastableinvacuumandpresentingapredominanceof(100)square\n",
      "chan2019:, 1, 109, basisofeitherAuNPsmodeledinvacuumbyexplicit3D\n",
      "chan2019:, 1, 115, 32AuNPsinvacuumcan\n",
      "chan2019:, 2, 56, thecohesionenergyoftheNPinvacuumagainst\n",
      "chan2019:, 5, 47, themoststablecaseinvacuum,suchasAu\n",
      "chan2019:, 5, 61, 147invacuumaretransformedinto\n",
      "baldelli2008:, 2, 91, -ityofvacuum,and\n",
      "baldelli2008:, 4, 1, vacuumto10\n",
      "baldelli2008:, 4, 71, vacuumdownto10\n",
      "nakamura2009:, 2, 14, puriÞedundervacuumbyfreeze\n",
      "nakamura2009:, 2, 18, wereperformedwithanultrahighvacuum(UHV)chamber\n",
      "kolb2014:, 2, 17, enhancedbindingforOandOH.Comparingtheseresultstoultrahighvacuumexperimentsreveals\n",
      "kolb2014:, 2, 66, grammedDesorption(TPD)techniqueinultra-highvacuum\n",
      "kolb2014:, 3, 22, 20†ofvacuum.Gasphasespecieswerecalculatedusinga\n",
      "tonigold2012:, 1, 150, vacuumconditions,\n",
      "tonigold2012:, 2, 29, atomiclayersthatwereseparatedbyavacuumregionofabout\n",
      "yeh2013:, 9, 0, 316K.-Y. Yeh et al. / Electrochimica Acta 101 (2013) 308– 325Fig. 6. Comparison of water dipole orientational parameters, P, from (a) mCF water and (b) SPC/E water under applied potentials of 0 V (), 1.25 V (), 1.875 V (), and 2.5 V(×). z = 0 represents positively charged surfaces, and z = 5.2 nm represents negatively charged surfaces.the electrode. The peak splitting is not prominent in mCF waterbecause ionic species can effectively screen the local ﬁeld.Negatively charged surfaces have the opposite inﬂuence onwater orientation (right panels in Figs. 5 and 6). As noted in Section2, our Pt–H potential hinders the H-down conﬁguration (= 180).Even at the most negatively charged surface (V = 2.5 V), the strongelectrostatic interaction is not sufﬁcient to overcome the energybarrier for water reorientation into the H-down conﬁguration, asseen in the nearly −1/2 order parameter in Fig. 6 right panel.Instead, water molecules form a packed surface layer to stabilize thenegatively charged electrode. Hydroniums do not permit as muchreorientation of the water due to strong solvation. The similarity ofoxygen distribution between SPC/E and mCF water under appliedpotentials indicates the presence of OH and H3O has little effect oninterfacial water structure.The most distinct difference in orientational ordering betweenSPC/E water and mCF water appears in the bulk region where theorder parameter of mCF water vanishes when a potential is applied.For SPC/E water, an applied potential leads to orientational order-ing of water dipoles (non-zero P) in the bulk solution region [4,6].Thus, SPC/E water in the center of the simulation cell experiences aﬁeld inducing preferential orientation of the rigid water moleculesand an appreciable dipole potential opposite the direction of theapplied potential. Under a 2.5 V applied potential, the order param-eter in the bulk region of SPC/E water (P = 0.14) corresponds to anaverage angle of 65between the water dipole and the surface nor-mal direction. In the same situation, the order parameter of mCFwater is negligible, indicating applied potentials have no effect onthe bulk water orientation. This might be due to ion formationand molecular ﬂexibility (polarizability) of mCF water that enhancewater dipole ordering near the electrode surface, leading to largerscreening [11,65] than rigid SPC/E water. The resulting electrostaticpotential distributions, from collective effects of an applied poten-tial, water polarizability and ion formation, are examined in thefollowing section.3.3. Electrostatic potentialThe x–y plane mean electric potential (V) across the simulationcell can be calculated from the mean charge density () via Poisson’sequation2Vz= −(z)0(8)where 0is the vacuum permittivity. The mean charge densitiesare obtained from the atom density proﬁles by multiplying by thecharge on each atom. As mentioned in Section 2, the constant elec-trode potential is deﬁned by averaging the potential oscillationwithin each electrode. Solving the second order differential equa-tion and applying the average potential difference between the twoelectrodes as the boundary condition results in the potential pro-ﬁles shown in Figs. 3 and 7. The relative energy difference of thevalence electrons creates a potential drop between two electrodehalves within the metal slab.An applied potential induces surface charging that polarizes thewater solution adjacent to the electrode. Similar to the oxygen den-sity proﬁles, the comparison of potential proﬁles in mCF and SPC/Ewater at small applied potentials show that the choice of watermodel does not introduce noticeable differences. Under an appliedpotential, the potential proﬁle of the SPC/E water has a non-zeroslope in the middle of ﬂuid, indicating that water re-orientationnear the surface and alignment in the bulk region does not create anelectric ﬁeld large enough to overcome the applied potential. Unlikethe ﬁeld-free region in the electrolyte of a zero applied potential\n",
      "yeh2013:, 10, 2,  511.87 9.29 54 62 11.47 64 –2.50 8.75 51 54 11.14 62 –a (bulk) is calculated using  = 1 + (1/(6kBTVcell0))  M(t) − M(0) 2, where M isthe total dipole moment of the simulation cell, Vcellis the volume of simulation cell,and kBand 0are Boltzmann constant and vacuum permittivity [67]. The calculated for original CF water is 69.b is calculated using Eq. (9).c//is calculated using Eq. (12).where two parallel plates are ﬁlled with a dielectric medium. Thedielectric constant is determined fromC =Q=0Ad(9)where Q denotes the surface charge on one electrode and A and dare the cross-sectional area and distance between two electrodesof the simulation cell. The calculated capacitances and dielectricconstants are given in Table 2. To quantitatively compare theapplied potential value with experiment is not straightforward,because the experimental measurement of potential is with respectto a standard electrode and the description of electron density ofa metal electrode and water–metal interaction are approximate.The double layer capacitance from experimental measurements ofa platinum electrode in 1 M potassium halide solution remains con-stant at 20 F cm−2before a steep rise to 40 F cm−2due tohalide ion discharge at 0.4 V with respective to a standard hydro-gen electrode [66]. The constant capacitance region in experimentsis interpreted as a solvent capacitance. We can estimate a full cellsolvent capacitance of 10 F cm−2by assuming two experimentalhalf-cell capacitors are connected in series. Our results are thereforein reasonable agreement with experiments.The dielectric response of water molecules to the applied poten-tial agrees with bulk water properties (see Table 1). The dielectricconstant reduces with increased applied potential, consistent witha saturation effect observed in theoretical studies [4,6]. Largerdielectric constants (capacitance) for mCF than SPC/E water areobserved at high-voltages because the accumulation of ion speciesnear the charged surface induces more surface charge than purewater simulations using non-dissociative SPC/E water, although theeffect is not as strong as ion speciﬁc adsorption.The mCF water model allows water dissociation and thus pro-vides a more realistic electrochemical interface. Hydronium andhydroxyl ions only slightly perturb the interfacial water structure,but cause substantial difference in electrostatic potential proﬁlescompared to SPC/E water simulations. The presence of water ionsalso complicates the dielectric properties, for which a dynamicpoint of view must be considered. To further extend our analysis,we consider water dynamics between Pt electrodes.3.4. Translational dynamicsThe dynamics of water near a charged surface distinctly differfrom bulk water. Strong water–platinum interactions slow watermotion [1,2,68], whereas the inﬂuence of applied potential is lessapparent. A simple measure of the translational mobility of inter-facial water is given by the mean-square displacements (MSDs).Because of the anisotropic effect of surface conﬁnement andapplied potential, we calculate MSDs parallel and perpendicular\n",
      "yeh2013:, 14, 0, K.-Y. Yeh et al. / Electrochimica Acta 101 (2013) 308– 325321water molecules are parallel to the surface, their individual dipolemoment might be arranged in a speciﬁc way that minimizes thetotal dipole parallel to the surface. Therefore, instead of slowingdown the dipole relaxation, surface water has nearly no inﬂuenceon the total dipole relaxation. However, the surface canceling effectis not valid in the surface normal direction because the appliedpotential aligns water in the direction against the electrical poten-tial.For mCF water, hydronium and hydroxyl ions accumulate atopposite sides of the electrodes, leading to out-of-plane ACFs thatdo not decay at all during the simulations, as seen in the left panelof Fig. 10(d). The relaxation time of the in-plane dipole (Fig. 10(c)) isapproximately 10 ns under an applied potential, much slower thanfor SPC/E water. These differences provide measure of the in-planedielectric properties of aqueous solution between Pt electrodes. Thecollective dipole moment relaxation of dissociative water (mCF) is1000 times longer than non-dissociative water (SPC/E) both in solu-tion and between Pt electrodes, as compared in the left and rightpanels in Fig. 10(c). The difference in time scale for total dipolerelaxation results from different contributions to the total dipolemoment. For SPC/E water, the dominant contribution is the molec-ular dipole, whereas for mCF water, it is water ion arrangement.The bulk static dielectric constant of mCF water also differs fromSPC/E and original CF water (see Table 2). At the interface, thecharged electrode, which immobilizes charged species, augmentsthe impact of water ions on total dipole relaxation. Because onlyCM,xy(t) decays to zero, we can only determine a static dielectricconstant (xy) in the in-plane direction. We use [73,75]xy= 1 +14kBTVcell0Mxy(t) − Mxy(0)2(12)where Vcellis the volume of the simulation cell, and kBand0are Boltzmann constant and vacuum permittivity. Results forstatic dielectric constants are given in Table 2, together with thecorresponding bulk results. The static dielectric constant is a mea-surement of the total dipole moment. Although the potential isapplied in the surface normal direction, the in plane dielectricconstant still decreases with applied potential in SPC/E water.The microscopic origin of this phenomenon is that when watermolecules align in the surface normal direction, the contribution ofeach individual water molecule to the in-plane direction decreases[73,76]. Although mCF water does not have permanent moleculardipoles, the attraction for ionic species toward the charged sur-face in the surface normal direction further suppresses the in-planedielectric constant. We were not able to perform xycalculations forapplied potentials of 1.875 and 2.5 V, because the strong ion effectleads to a very slow decay of CM,xy. As shown in Table 2, the dielec-tric constants calculated from capacitance and from total dipolemoment differ, as expected. The former is mainly determined bythe ion–electrode interaction within the interfacial region, wheremore electrons are induced to the surface to respond to water ions.The latter involves ion/water arrangement and diffusion, which isalso perturbed by the charged electrode.The dissociative water model not only captures water dissocia-tion and the inﬂuence of water ions on interfacial water properties,but also enables the modeling of proton transfer near this inter-face, which is also crucial in fuel cell research. In the next section,we discuss the capability of our model to capture proton transfernear the electrode.3.6. Proton transfer near the platinum electrodeProton transfer to and from a metal electrode is a fundamentalprocess in electrochemistry. Protons transfer through the Grot-thuss hopping mechanism, which involves breaking and formingof covalent and hydrogen bonds [27]. This structural diffusion isresponsible for the high mobility of protons in aqueous solution.Compared to extensive investigations from experiments [77,78]and simulations [21,22,24,26] on H3O transfer, OH transfer receivesless attention, and the detailed structure of the solvation shell inwater has not yet been fully resolved [28,79]. As mentioned inSection 1, molecular modeling of proton transfer motivates thedevelopment of reactive water models [21,22,24,26,34]. One bigadvantage of the mCF water model is that no additional forceﬁeld parameterization is needed to describe both hydronium andhydroxyl transfer process, and it also allow us to investigate thetransfer reactions on long time scales. In this section, we sketchbrieﬂy the ability of the mCF force ﬁeld to allow the proton andhydroxyl transfer in bulk solution and between Pt electrodes. Theimpact of applied potential on charge transfer is also examined.The charge transfer of H3O+and OH−species are described asthe following reactions:[H2OiH]+· · ·OjH2· · ·OkH2 H2Oi· · ·[HOjH2]+· · ·OkH2 H2Oi· · ·HOjH· · ·[HOkH2]+(13)[HOi]−· · ·HOjH· · ·HOkH HOiH· · ·[OjH]−· · ·HOkH HOiH· · ·HOjH· · ·[OkH]−(14)In both cases, charges are transferred from Oito Okvia Oj. Thehydrogen bonds within the transfer network are indicated by dot-ted lines, and H, H*, and H**denote H initially coordinated todifferent oxygen atoms. A H atom can shuttle between two watermolecules (oxygen atoms i and j) for a period of time before a His transferred to another oxygen atom. Events associated with Hoscillation occur with a relatively short time interval. An “effective”positive charge transfer occurs only if an excess H is transferredfrom Oito Ok, i.e. a new H3O is formed, while hydroxyl ions movein the opposite sense. With H oscillation and effective charge trans-fer distinguished, we calculate species lifetimes. The ﬁrst lifetime ofhydronium and hydroxyl species is simply based on H oscillation.The time required for an effective charge transfer is a second prop-erty. For hydronium, effective charge transfer is counted by ﬁrstobserving Ojaccepting H*from Oiand then observing Ojgiving upone of its original hydrogen (H**); for hydroxyl, we ﬁrst observe Ojlosing one H*and then Ojreceiving one H**from a different Ok.The counts of reaction events per time indicate the reaction ratefor proton transfer reaction in solution. Because the numbers ofthe two transfer events vary with the number of ion species, itis difﬁcult to directly compare systems with varying ion concen-trations. Hence, the effectiveness of H3O/OH transfer is deﬁnedas the ratio of the number of effective transfers (event two) tothe total number of oscillation events (event one). This providesinformation as to how water ion distributions and interfacial waterstructures alter the effectiveness of charge transfer as a functionof applied potential. This comparison is particularly importantwhen hydronium/hydroxyl is transferred to a charged electrodesurface because the rate-limiting step for proton transfer is therearrangement of hydrogen bonds in the solvation shell [21], whichis altered by the charged electrodes. Our deﬁnition of charge trans-fer effectiveness is similar to that used in ab initio MD studiesof proton transfer in aqueous sulfuric acid solutions and polymerelectrolyte membranes where nonconstructive and constructiveproton transfer are described [80,81].Before we discuss proton transfer near the electrode surface, weﬁrst examine proton transfer (event one) and charge transfer (eventtwo) in the bulk solution simulation. The ﬁrst event represents thelifetime of H3O and OH, which is estimated as the time periodfor which an oxygen atom retains its coordination number (CN).Only oxygen that is coordinated by three hydrogen atoms (CN = 3)\n",
      "yeh2013:, 18, 0, K.-Y. Yeh et al. / Electrochimica Acta 101 (2013) 308– 325325[51] J.P. Perdew, K. Burke, M. Ernzerhof, Generalized gradient approximation madesimple, Physical Review Letters 77 (1996) 3865.[52] J.P. Perdew, J.A. Chevary, S.H. Vosko, K.A. Jackson, M.R. Pederson, D.J. Singh, C.Fiolhais, Atoms, molecules, solids, and surfaces: applications of the generalizedgradient approximation for exchange and correlation, Physical Review B 46(1992) 6671.[53] S. Plimpton, Fast parallel algorithms for short-range molecular dynamics, Jour-nal of Computational Physics 117 (1995) 1.[54] S. Plimpton, LAMMPS Molecular Dynamics Simulator Web page, 2007.http://lammps.sandia.gov[55] M.P. Allen, D.J. Tildesley, Computer Simulation of Liquids, Oxford UniversityPress, New York, 1987.[56] S. Nose, A uniﬁed formulation of the constant temperature molecular dynamicsmethods, Journal of Chemical Physics 81 (1984) 511.[57] W.G. Hoover, Canonical dynamics: equilibrium phase-space distributions,Physical Review A 31 (1985) 1695.[58] P. Mark, L. Nilsson, Structure and dynamics of the TIP3P, SPC, and SPC/E watermodels at 298 K, Journal of Physical Chemistry A 105 (2001) 9954.[59] R.W. Hockney, J.W. Eastwood, Computer Simulation Using Particles, Instituteof Physics, Bristol, 1998.[60] E. Spohr, Computer simulation of the structure of the electrochemical doublelayer, Journal of Electroanalytical Chemistry 450 (1998) 327.[61] S.J. Suresh, Disruption of hydrogen bond structure of water near charged elec-trode surfaces, Journal of Chemical Physics 126 (2007) 204705.[62] V.A. Froltsov, S.H.L. Klapp, Anisotropic dynamics of dipolar liquids in narrowslit pores, Journal of Chemical Physics 124 (2006) 134701.[63] R. Guidelli, W. Schmickler, Recent developments in models for the interfacebetween a metal and an aqueous solution, Electrochimica Acta 45 (2000) 2317.[64] M. Watanabe, A.M. Brodsky, W.P. Reinhardt, Dielectric properties and phasetransitions of water between conducting plates, Journal of Physical Chemistry95 (1991) 4593.[65] A. Kohlmeyer, W. Witschel, E. Spohr, Molecular dynamics simulations ofwater/metal and water/vacuum interfaces with a polarizable water model,Chemical Physics 213 (1996) 211.[66] M.A.V. Devanath, K. Ramakris, Differential capacitance of some solidmetal/aqueous-electrolyte interfaces, Electrochimica Acta 18 (1973) 259.[67] P. Hochtl, S. Boresch, W. Bitomsky, O. Steinhauser, Rationalization of the dielec-tric properties of common three-site water models in terms of their force ﬁeldparameters, Journal of Chemical Physics 109 (1998) 4927.[68] E. Spohr, Molecular dynamics simulations of water and ion dynamics in theelectrochemical double layer, Solid State Ionics 150 (2002) 1.[69] D.E. Rosenfeld, C.A. Schmuttenmaer, Dynamics of the water hydrogen bond net-work at ionic, nonionic, and hydrophobic interfaces in nanopores and reversemicelles, Journal of Physical Chemistry B 115 (2011) 1021.[70] M.R. Harpham, B.M. Ladanyi, N.E. Levinger, The effect of the counterion onwater mobility in reverse micelles studied by molecular dynamics simulations,Journal of Physical Chemistry B 109 (2005) 16891.[71] J. Faeder, M.V. Albert, B.M. Ladanyi, Molecular dynamics simulations of the inte-rior of aqueous reverse micelles: a comparison between sodium and potassiumcounterions, Langmuir 19 (2003) 2514.[72] J. Faeder, B.M. Ladanyi, Molecular dynamics simulations of the interior of aque-ous reverse micelles, Journal of Physical Chemistry B 104 (2000) 1033.[73] V.A. Froltsov, S.H.L. Klapp, Dielectric response of polar liquids in narrow slitpores, Journal of Chemical Physics 126 (2007) 114703.[74] A.Y. Zasetsky, S.V. Petelina, A.K. Lyashchenko, A.S. Lileev, Computer simula-tion study of rotational diffusion in polar liquids of different types, Journal ofChemical Physics 133 (2010) 134502.[75] V. Ballenegger, J.P. Hansen, Dielectric permittivity proﬁles of conﬁned polarﬂuids, Journal of Chemical Physics 122 (2005) 114711.[76] P.D. Duncan, P.J. Camp, Structure and dynamics in a monolayer of dipolarspheres, Journal of Chemical Physics 121 (2004) 11322.[77] K.J. Tielrooij, R.L.A. Timmer, H.J. Bakker, M. Bonn, Structure dynamics of the pro-ton in liquid water probed with terahertz time-domain spectroscopy, PhysicalReview Letters 102 (2009) 198303.[78] S. Woutersen, H.J. Bakker, Ultrafast vibrational and structural dynamics of theproton in liquid water, Physical Review Letters 96 (2006) 138305.[79] D. Marx, Proton transfer 200 years after von Grotthuss: insights from ab initiosimulations, ChemPhysChem 8 (2007) 209.[80] Y.-K. Choe, E. Tsuchida, T. Ikeshoji, First-principles molecular dynamics studyon aqueous sulfuric acid solutions, Journal of Chemical Physics 126 (2007)154510.[81] Y.-K. Choe, E. Tsuchida, T. Ikeshoji, S. Yamakawa, S.-A. Hyodo, Nature of pro-ton dynamics in a polymer electrolyte membrane, naﬁon: a ﬁrst-principlesmolecular dynamics study, Physical Chemistry Chemical Physics 11 (2009)3892.[82] W.C. Sheng, H.A. Gasteiger, Y. Shao-Horn, Hydrogen oxidation and evolutionreaction kinetics on platinum: acid vs alkaline electrolytes, Journal of the Elec-trochemical Society 157 (2010) B1529.[83] M.K. Petersen, A.J. Hatt, G.A. Voth, Orientational dynamics of water in the Naﬁonpolymer electrolyte membrane and its relationship to proton transport, Journalof Physical Chemistry B 112 (2008) 7754.\n",
      "ibach2010:, 1, 81, likeformofwaterisreadilyobtainedinultra-highvacuumby\n",
      "ibach2010:, 2, 29, Experimentswereperformedinanultra-highvacuumchamber\n",
      "ibach2010:, 7, 29, Au(100)surfacespreparedinultra-highvacuumarealways\n",
      "morales2013:, 3, 95, vacuumusingbothaturbomolecularpump(TMH-071P,\n",
      "ringe2019:, 3, 59, vacuumpermittivity)and\n",
      "ringe2019:, 4, 3, electrons,whichcreatesavacuum-likegapbetweensolidand\n",
      "ringe2019:, 5, 100, vacuumconditions.\n",
      "petit2017:, 2, 147, infraredpathwerekeptundervacuumduringthemeasure-\n",
      "AIMD_benchmark_solvation:, 2, 18, moreaccurateenergeticsoversimulationsinvacuum.Wemostofthecomputed\n",
      "AIMD_benchmark_solvation:, 3, 8, terfacearesolid/vacuuminterfaceswith\n",
      "AIMD_benchmark_solvation:, 3, 37, 80)tothevacuumpermittivity\n",
      "AIMD_benchmark_solvation:, 4, 35, puresolid/vacuumcalculations.Ontheonehand,theseresultsputtoquestiontheaccuracy\n",
      "AIMD_benchmark_solvation:, 5, 74, .Toavoidinteractionsacrossperiodicimages,avacuumspacingof10\n",
      "AIMD_benchmark_solvation:, 7, 157, displacement(MSD).Theincreasedmobilityatthewater/vacuuminterfaceisomittedfrom\n",
      "AIMD_benchmark_solvation:, 18, 27, energiesinstaticcalculationswithoutsolventinvacuum\n",
      "AIMD_benchmark_solvation:, 18, 32, oftheMAEofthevacuumandimplicitsolventsimulationssuggestthatimplicitsolvent\n",
      "AIMD_benchmark_solvation:, 18, 33, modelsdonotimprovetheaccuracyofadsorptionenergiesovervacuumsimulations.Thisis\n",
      "AIMD_benchmark_solvation:, 19, 29, andlimitstheadvantageintheapplicationofcontinuumsolvationoverbasicsolid/vacuum\n",
      "AIMD_benchmark_solvation:, 20, 51, bondingof*OHanditsadsorptionenergyatthemetal/vacuuminterfacewithoutpresence\n",
      "AIMD_benchmark_solvation:, 23, 0, uumsolvationincomparisontoabasicsolid/vacuumcalculationtodetermineadsorption\n",
      "cappa2006:, 2, 35, T˘285K)intothehighvacuumenvironment,thereby\n",
      "cappa2005:, 2, 53, windowlesscouplingtothehighvacuumbeamlinethrougha\n",
      "michaelides2006:, 6, 241, moleculeinvacuum;\n",
      "michaelides2006:, 7, 373, isthetotalenergyofabilayerinvacuum˚xed\n",
      "stacchiola2009:, 1, 96, Theexperimentswereperformedinanultrahighvacuum\n",
      "stacchiola2009:, 2, 23, unitcellanda15†vacuumbetweentheslabs.Ninek-points\n",
      "stacchiola2009:, 3, 32, substrate(1BLH-down)orthevacuum(1BLH-up)andalso\n",
      "le2018:, 1, 67, ultrahighvacuum(UHV)conditions.\n",
      "hayes2011:, 2, 187, thesamples.Priortouse,theliquidsweredriedundervacuum\n",
      "vanreijzen2011:, 1, 99, Experimentsarecarriedoutusingahome-builtultrahighvacuum\n",
      "10.1002@anie.201710791:, 4, 115, vacuum.Secondly,theformationofthemethoxy\n",
      "le2017:, 1, 46, surfaceslikeRu(0001)inultra-highvacuum(UHV)atcryogenictem-\n",
      "le2017:, 2, 170, structuresofwateradsorptiononmetalsurfacesinvacuum.Valuesintheparentheses\n",
      "le2017:, 3, 0, with5and6atomiclayers,respectively.Thevacuumspacebetweenthe\n",
      "le2017:, 3, 26, Themetalslabmodelsinvacuumweretestedbycalculatingtheir\n",
      "le2017:, 4, 73, anglescalculatedforasingleadsorbedwatermoleculeinvacuum\n",
      "le2017:, 6, 6, siteofwatermonomerinvacuum(see\n",
      "le2017:, 6, 14, largeasthatofanadsorbedwatermonomerinvacuum.Weattribute\n",
      "donadio2012:, 2, 139, vacuumlayer18Åthick.Thetwobottomlayersoftheslabarekept\n",
      "pedroza2015:, 2, 37, /vacuuminter-\n",
      "pedroza2015:, 3, 12, /vacuumstructureinwhichthelarge\n",
      "pedroza2015:, 4, 49, jisaslabofvacuum\n",
      "pedroza2015:, 4, 52, /vacuumwithsymmetric\n",
      "pedroza2015:, 8, 36, electrostaticpotentialenergyinthenearvacuumregionnext\n",
      "pedroza2015:, 8, 43, thereforereferencingwithrespecttothesamevacuumlevel\n",
      "gross2014:, 1, 38, thesolid-vacuuminterfacearenotavailableforthesolid-liquidin-\n",
      "gross2014:, 2, 65, assembleafreewaterbilayerinvacuumandusethisasareference\n",
      "standop2010:, 1, 50, vacuum,4Œ7leadingtoamodelwheretherespectiveHis\n",
      "standop2010:, 1, 111, Theexperimentswereperformedinanultrahigh-vacuum\n",
      "standop2010:, 3, 142, intothevacuum,whichmakesthe˚rstwaterlayerhydro-\n",
      "pekoz2014:, 1, 62, temperature,lowcoverage,andultrahighvacuumconditions.\n",
      "pekoz2014:, 2, 113, vacuumspacewassetto20Å.Thetwobottomlayerswere\n",
      "pekoz2014:, 6, 112, energylevelsofwaterinvacuumhavebeenshiftedsothat2a\n",
      "huzayyin2014:, 1, 58, di\"ersfromthatoftheultrahighvacuumenvironment,\n",
      "huzayyin2014:, 2, 144, Enoughvacuumwasincludedintheunitcelltoensurethatno\n",
      "huzayyin2014:, 6, 144, (2)where'0isthevacuumpermittivityand\n",
      "le2017-pzc:, 1, 76, interfacehastobeexplicitlymodeledandthevacuum\n",
      "le2017-pzc:, 3, 52, energieswithrespecttothevacuumlevel.Ourcalculation\n",
      "le2017-pzc:, 4, 98, -12-8-4Energy relative to vacuum (eV)\n",
      "iori2009:, 10, 54, beenapplied,withathickvacuumlayertoneutralizespurious\n",
      "iori2009:, 10, 70, haveavacuumthicknessof10A\n",
      "iori2009:, 10, 100, ˚ofvacuum)andwithaﬁner6\n",
      "nadler2012:, 3, 39, cases,avacuumlayerofatleast15†wasintroducedtoavoid\n",
      "ncomms12695:, 7, 4, whilethedetectionstageintheanalyserwasunderhighvacuumconditions\n",
      "lin2012:, 2, 21, 15layerswereusedforAu(511)withavacuumregionof20Å.Thege-\n",
      "lin2012:, 2, 61, .Au(100)surfacespreparedinultrahighvacuumarealways\n",
      "schnur2009:, 17, 40, layerinthevacuumregionbetweentwoslabs[\n",
      "schnur2009:, 18, 56, invacuumregionswherethechargedistributionisentirelygivenbytheuniformbackground\n",
      "schnur2009:, 19, 25, toanabsolutevaluefortheone-electronpotential,forexamplewithrespecttothevacuum\n",
      "schnur2009:, 19, 32, calculationisperformedforasolvatedslabwithavacuumregionintroducedinthemiddleof\n",
      "schnur2009:, 19, 33, theunitcellbetweentheslabs.Thewaterlayershouldbethickenoughthatthevacuumlevel\n",
      "schnur2009:, 19, 34, isconvergedwithrespecttothenumberofincludedwaterlayers.Forsuchasetup,thevacuum\n",
      "schnur2009:, 19, 41, notdependonthepresenceofthevacuumregionanditspotentialanditsvalue\n",
      "schnur2009:, 19, 48, withrespecttothevacuumlevel.Furthercalculationsareperformedwiththeregionbetween\n",
      "schnur2009:, 19, 62, ofelectricthroughoutthewholesupercell.Consequently,avacuumreferencepointcannot\n",
      "schnur2009:, 21, 4, resultingintwodifferentelectrodepotentials.Inthevacuumlayer,thereisa\n"
     ]
    }
   ],
   "source": [
    "query4kw(texts, qu)"
   ]
  },
  {
   "cell_type": "code",
   "execution_count": null,
   "metadata": {},
   "outputs": [],
   "source": []
  },
  {
   "cell_type": "code",
   "execution_count": null,
   "metadata": {},
   "outputs": [],
   "source": []
  }
 ],
 "metadata": {
  "kernelspec": {
   "display_name": "Python 3",
   "language": "python",
   "name": "python3"
  },
  "language_info": {
   "codemirror_mode": {
    "name": "ipython",
    "version": 3
   },
   "file_extension": ".py",
   "mimetype": "text/x-python",
   "name": "python",
   "nbconvert_exporter": "python",
   "pygments_lexer": "ipython3",
   "version": "3.9.0"
  }
 },
 "nbformat": 4,
 "nbformat_minor": 4
}

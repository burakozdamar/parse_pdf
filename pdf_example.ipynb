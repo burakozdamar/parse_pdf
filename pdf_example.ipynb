{
 "cells": [
  {
   "cell_type": "code",
   "execution_count": 1,
   "metadata": {},
   "outputs": [],
   "source": [
    "import PyPDF2\n",
    "import os\n",
    "from tqdm import trange "
   ]
  },
  {
   "cell_type": "code",
   "execution_count": 2,
   "metadata": {},
   "outputs": [],
   "source": [
    "# for file in os.listdir('.'):\n",
    "    \n",
    "#     text_dict={}\n",
    "#     text=[]\n",
    "\n",
    "#     try:   \n",
    "#         if file.endswith('.pdf'):\n",
    "#             print(file.split('/')[-1])\n",
    "#             print('-'*8)\n",
    "#             file = open(file, 'rb')\n",
    "#             pdfReader = PyPDF2.PdfFileReader(file)\n",
    "\n",
    "#             for page in range(pdfReader.numPages):\n",
    "#                 page = pdfReader.getPage(page)\n",
    "#                 text.append(page.extractText().split('\\n'))\n",
    "\n",
    "#         qu = ['Au(111)', 'Au (111)', '(111)', '111']\n",
    "#     #     qu = ['111']\n",
    "\n",
    "#         for page_num, page in enumerate(text):\n",
    "#             for line_num, line in enumerate(page):\n",
    "\n",
    "#                 res = [ele for ele in qu if ele in line] \n",
    "\n",
    "#                 if any(res):\n",
    "\n",
    "#                     print(page_num+1,line_num, line)\n",
    "\n",
    "#         print('='*8)\n",
    "#     except:\n",
    "#         pass"
   ]
  },
  {
   "cell_type": "code",
   "execution_count": 3,
   "metadata": {},
   "outputs": [],
   "source": [
    "def pdf2text(folder):\n",
    "    dct={}\n",
    "    print(f\"{len(os.listdir(folder))} in total\")\n",
    "    for file in os.listdir(folder):\n",
    "        \n",
    "        text=[]\n",
    "        \n",
    "        if file.endswith('.pdf'):\n",
    "            try:\n",
    "                print(file)\n",
    "\n",
    "                pdfFile = open(folder+file, 'rb')\n",
    "                pdfReader = PyPDF2.PdfFileReader(pdfFile)\n",
    "\n",
    "                for page in trange(pdfReader.numPages):\n",
    "                    page = pdfReader.getPage(page)\n",
    "                    text.append(page.extractText().split('\\n'))\n",
    "                    \n",
    "            except TypeError as e:\n",
    "                print(e)\n",
    "                \n",
    "        dct[file.split(\".pdf\")[0]]=text\n",
    "    print(\"DONE\")\n",
    "    return dct"
   ]
  },
  {
   "cell_type": "code",
   "execution_count": 4,
   "metadata": {},
   "outputs": [
    {
     "name": "stderr",
     "output_type": "stream",
     "text": [
      "100%|██████████| 10/10 [00:00<00:00, 214.80it/s]\n",
      "  0%|          | 0/14 [00:00<?, ?it/s]"
     ]
    },
    {
     "name": "stdout",
     "output_type": "stream",
     "text": [
      "57 in total\n",
      "Le2018-SI.pdf\n",
      "cicero2011-SI.pdf\n"
     ]
    },
    {
     "name": "stderr",
     "output_type": "stream",
     "text": [
      "100%|██████████| 14/14 [00:00<00:00, 108.26it/s]\n",
      "100%|██████████| 17/17 [00:00<00:00, 154.01it/s]\n",
      "  0%|          | 0/14 [00:00<?, ?it/s]"
     ]
    },
    {
     "name": "stdout",
     "output_type": "stream",
     "text": [
      "SI_AIMD_benchmark_solvation.pdf\n",
      "berg2017.pdf\n"
     ]
    },
    {
     "name": "stderr",
     "output_type": "stream",
     "text": [
      "100%|██████████| 14/14 [00:00<00:00, 35.29it/s]\n",
      "100%|██████████| 7/7 [00:00<00:00, 36.29it/s]\n",
      "PdfReadWarning: Xref table not zero-indexed. ID numbers for objects will be corrected. [pdf.py:1736]\n"
     ]
    },
    {
     "name": "stdout",
     "output_type": "stream",
     "text": [
      "chan2019.pdf\n",
      "baldelli2008.pdf\n"
     ]
    },
    {
     "name": "stderr",
     "output_type": "stream",
     "text": [
      "100%|██████████| 11/11 [00:00<00:00, 74.04it/s]\n",
      "100%|██████████| 5/5 [00:00<00:00, 59.91it/s]\n",
      " 86%|████████▌ | 6/7 [00:00<00:00, 55.67it/s]"
     ]
    },
    {
     "name": "stdout",
     "output_type": "stream",
     "text": [
      "nakamura2009.pdf\n",
      "kolb2014.pdf\n"
     ]
    },
    {
     "name": "stderr",
     "output_type": "stream",
     "text": [
      "100%|██████████| 7/7 [00:00<00:00, 51.63it/s]\n",
      "100%|██████████| 7/7 [00:00<00:00, 55.88it/s]\n",
      "  0%|          | 0/18 [00:00<?, ?it/s]"
     ]
    },
    {
     "name": "stdout",
     "output_type": "stream",
     "text": [
      "tonigold2012.pdf\n",
      "yeh2013.pdf\n"
     ]
    },
    {
     "name": "stderr",
     "output_type": "stream",
     "text": [
      "100%|██████████| 18/18 [00:01<00:00,  9.83it/s]\n",
      "  0%|          | 0/9 [00:00<?, ?it/s]"
     ]
    },
    {
     "name": "stdout",
     "output_type": "stream",
     "text": [
      "ibach2010.pdf\n"
     ]
    },
    {
     "name": "stderr",
     "output_type": "stream",
     "text": [
      "100%|██████████| 9/9 [00:06<00:00,  1.37it/s]\n",
      " 45%|████▌     | 5/11 [00:00<00:00, 46.76it/s]"
     ]
    },
    {
     "name": "stdout",
     "output_type": "stream",
     "text": [
      "morales2013.pdf\n"
     ]
    },
    {
     "name": "stderr",
     "output_type": "stream",
     "text": [
      "100%|██████████| 11/11 [00:00<00:00, 48.95it/s]\n",
      " 14%|█▎        | 3/22 [00:00<00:00, 28.87it/s]"
     ]
    },
    {
     "name": "stdout",
     "output_type": "stream",
     "text": [
      "guymon2005.pdf\n"
     ]
    },
    {
     "name": "stderr",
     "output_type": "stream",
     "text": [
      "100%|██████████| 22/22 [00:00<00:00, 39.75it/s]\n",
      " 21%|██▏       | 3/14 [00:00<00:00, 25.13it/s]"
     ]
    },
    {
     "name": "stdout",
     "output_type": "stream",
     "text": [
      "ringe2019.pdf\n"
     ]
    },
    {
     "name": "stderr",
     "output_type": "stream",
     "text": [
      "100%|██████████| 14/14 [00:00<00:00, 48.67it/s]\n",
      " 40%|████      | 4/10 [00:00<00:00, 39.34it/s]"
     ]
    },
    {
     "name": "stdout",
     "output_type": "stream",
     "text": [
      "petit2017.pdf\n"
     ]
    },
    {
     "name": "stderr",
     "output_type": "stream",
     "text": [
      "100%|██████████| 10/10 [00:00<00:00, 45.38it/s]\n",
      "100%|██████████| 27/27 [00:00<00:00, 154.94it/s]\n",
      "  0%|          | 0/9 [00:00<?, ?it/s]"
     ]
    },
    {
     "name": "stdout",
     "output_type": "stream",
     "text": [
      "AIMD_benchmark_solvation.pdf\n",
      "cappa2006.pdf\n"
     ]
    },
    {
     "name": "stderr",
     "output_type": "stream",
     "text": [
      "100%|██████████| 9/9 [00:00<00:00, 52.26it/s]\n",
      "100%|██████████| 1/1 [00:00<00:00, 44.22it/s]\n",
      "100%|██████████| 7/7 [00:00<00:00, 62.18it/s]\n",
      "  0%|          | 0/7 [00:00<?, ?it/s]"
     ]
    },
    {
     "name": "stdout",
     "output_type": "stream",
     "text": [
      "Masterarbeit_DoubleLayer_SS2016.pdf\n",
      "cappa2005.pdf\n",
      "schultz2005.pdf\n"
     ]
    },
    {
     "name": "stderr",
     "output_type": "stream",
     "text": [
      "100%|██████████| 7/7 [00:00<00:00, 48.71it/s]\n",
      "  9%|▉         | 1/11 [00:00<00:01,  7.71it/s]"
     ]
    },
    {
     "name": "stdout",
     "output_type": "stream",
     "text": [
      "pajkossy2018.pdf\n"
     ]
    },
    {
     "name": "stderr",
     "output_type": "stream",
     "text": [
      "100%|██████████| 11/11 [00:01<00:00,  9.23it/s]\n",
      " 36%|███▋      | 4/11 [00:00<00:00, 31.59it/s]"
     ]
    },
    {
     "name": "stdout",
     "output_type": "stream",
     "text": [
      "michaelides2006.pdf\n"
     ]
    },
    {
     "name": "stderr",
     "output_type": "stream",
     "text": [
      "100%|██████████| 11/11 [00:00<00:00, 29.61it/s]\n",
      "100%|██████████| 4/4 [00:00<00:00, 34.44it/s]\n",
      "  0%|          | 0/5 [00:00<?, ?it/s]"
     ]
    },
    {
     "name": "stdout",
     "output_type": "stream",
     "text": [
      "stacchiola2009.pdf\n",
      "le2018.pdf\n"
     ]
    },
    {
     "name": "stderr",
     "output_type": "stream",
     "text": [
      "100%|██████████| 5/5 [00:00<00:00, 26.29it/s]\n",
      "100%|██████████| 5/5 [00:00<00:00, 28.04it/s]\n",
      "  0%|          | 0/2 [00:00<?, ?it/s]"
     ]
    },
    {
     "name": "stdout",
     "output_type": "stream",
     "text": [
      "---cicero2011.pdf\n",
      "kawai2000.pdf\n"
     ]
    },
    {
     "name": "stderr",
     "output_type": "stream",
     "text": [
      "100%|██████████| 2/2 [00:00<00:00, 64.83it/s]\n",
      "100%|██████████| 9/9 [00:00<00:00, 55.83it/s]\n",
      "  0%|          | 0/6 [00:00<?, ?it/s]"
     ]
    },
    {
     "name": "stdout",
     "output_type": "stream",
     "text": [
      "hayes2011.pdf\n",
      "vanreijzen2011.pdf\n"
     ]
    },
    {
     "name": "stderr",
     "output_type": "stream",
     "text": [
      "100%|██████████| 6/6 [00:00<00:00, 37.52it/s]\n",
      "100%|██████████| 8/8 [00:00<00:00, 100.94it/s]\n",
      "  0%|          | 0/8 [00:00<?, ?it/s]"
     ]
    },
    {
     "name": "stdout",
     "output_type": "stream",
     "text": [
      "10.1002@anie.201710791.pdf\n",
      "le2017.pdf\n"
     ]
    },
    {
     "name": "stderr",
     "output_type": "stream",
     "text": [
      "100%|██████████| 8/8 [00:00<00:00, 23.09it/s]\n",
      "100%|██████████| 6/6 [00:00<00:00, 34.71it/s]\n",
      "  0%|          | 0/7 [00:00<?, ?it/s]"
     ]
    },
    {
     "name": "stdout",
     "output_type": "stream",
     "text": [
      "donadio2012.pdf\n",
      "pei2006.pdf\n"
     ]
    },
    {
     "name": "stderr",
     "output_type": "stream",
     "text": [
      "100%|██████████| 7/7 [00:00<00:00, 94.19it/s]\n",
      " 33%|███▎      | 3/9 [00:00<00:00, 27.81it/s]"
     ]
    },
    {
     "name": "stdout",
     "output_type": "stream",
     "text": [
      "pedroza2015.pdf\n"
     ]
    },
    {
     "name": "stderr",
     "output_type": "stream",
     "text": [
      "100%|██████████| 9/9 [00:00<00:00, 21.33it/s]\n",
      " 50%|█████     | 3/6 [00:00<00:00, 22.73it/s]"
     ]
    },
    {
     "name": "stdout",
     "output_type": "stream",
     "text": [
      "gross2014.pdf\n"
     ]
    },
    {
     "name": "stderr",
     "output_type": "stream",
     "text": [
      "100%|██████████| 6/6 [00:00<00:00, 23.45it/s]\n",
      "  0%|          | 0/9 [00:00<?, ?it/s]\n",
      "100%|██████████| 4/4 [00:00<00:00, 38.19it/s]\n",
      "100%|██████████| 2/2 [00:00<00:00, 40.79it/s]\n",
      "  0%|          | 0/7 [00:00<?, ?it/s]"
     ]
    },
    {
     "name": "stdout",
     "output_type": "stream",
     "text": [
      "spohr1999.pdf\n",
      "ord() expected string of length 1, but int found\n",
      "standop2010.pdf\n",
      "weeraman2006.pdf\n",
      "friedl2016.pdf\n"
     ]
    },
    {
     "name": "stderr",
     "output_type": "stream",
     "text": [
      "100%|██████████| 7/7 [00:00<00:00, 26.03it/s]\n",
      " 44%|████▍     | 4/9 [00:00<00:00, 39.59it/s]"
     ]
    },
    {
     "name": "stdout",
     "output_type": "stream",
     "text": [
      "pekoz2014.pdf\n"
     ]
    },
    {
     "name": "stderr",
     "output_type": "stream",
     "text": [
      "100%|██████████| 9/9 [00:00<00:00, 44.41it/s]\n",
      " 25%|██▌       | 3/12 [00:00<00:00, 27.38it/s]"
     ]
    },
    {
     "name": "stdout",
     "output_type": "stream",
     "text": [
      "huzayyin2014.pdf\n"
     ]
    },
    {
     "name": "stderr",
     "output_type": "stream",
     "text": [
      "100%|██████████| 12/12 [00:00<00:00, 33.33it/s]\n",
      "  0%|          | 0/6 [00:00<?, ?it/s]"
     ]
    },
    {
     "name": "stdout",
     "output_type": "stream",
     "text": [
      "willard2013.pdf\n"
     ]
    },
    {
     "name": "stderr",
     "output_type": "stream",
     "text": [
      "100%|██████████| 6/6 [00:01<00:00,  4.08it/s]\n",
      "  0%|          | 0/6 [00:00<?, ?it/s]"
     ]
    },
    {
     "name": "stdout",
     "output_type": "stream",
     "text": [
      "nihonyanagi2004.pdf\n"
     ]
    },
    {
     "name": "stderr",
     "output_type": "stream",
     "text": [
      "100%|██████████| 6/6 [00:00<00:00,  6.25it/s]\n",
      " 31%|███       | 4/13 [00:00<00:00, 37.38it/s]"
     ]
    },
    {
     "name": "stdout",
     "output_type": "stream",
     "text": [
      "kamalakannan2018.pdf\n"
     ]
    },
    {
     "name": "stderr",
     "output_type": "stream",
     "text": [
      "100%|██████████| 13/13 [00:00<00:00, 48.44it/s]\n",
      " 50%|█████     | 3/6 [00:00<00:00, 26.04it/s]"
     ]
    },
    {
     "name": "stdout",
     "output_type": "stream",
     "text": [
      "rigoulet2018.pdf\n"
     ]
    },
    {
     "name": "stderr",
     "output_type": "stream",
     "text": [
      "100%|██████████| 6/6 [00:00<00:00, 27.54it/s]\n",
      " 40%|████      | 4/10 [00:00<00:00, 35.99it/s]"
     ]
    },
    {
     "name": "stdout",
     "output_type": "stream",
     "text": [
      "j2015.pdf\n"
     ]
    },
    {
     "name": "stderr",
     "output_type": "stream",
     "text": [
      "100%|██████████| 10/10 [00:00<00:00, 30.01it/s]\n",
      "  0%|          | 0/6 [00:00<?, ?it/s]"
     ]
    },
    {
     "name": "stdout",
     "output_type": "stream",
     "text": [
      "le2017-pzc.pdf\n"
     ]
    },
    {
     "name": "stderr",
     "output_type": "stream",
     "text": [
      "100%|██████████| 6/6 [00:00<00:00,  6.62it/s]\n",
      " 67%|██████▋   | 8/12 [00:00<00:00, 64.23it/s]"
     ]
    },
    {
     "name": "stdout",
     "output_type": "stream",
     "text": [
      "iori2009.pdf\n"
     ]
    },
    {
     "name": "stderr",
     "output_type": "stream",
     "text": [
      "100%|██████████| 12/12 [00:00<00:00, 59.75it/s]\n",
      "100%|██████████| 6/6 [00:00<00:00, 34.62it/s]\n",
      "  0%|          | 0/13 [00:00<?, ?it/s]"
     ]
    },
    {
     "name": "stdout",
     "output_type": "stream",
     "text": [
      "li2019-in-situ.pdf\n",
      "nadler2012.pdf\n"
     ]
    },
    {
     "name": "stderr",
     "output_type": "stream",
     "text": [
      "100%|██████████| 13/13 [00:00<00:00, 34.32it/s]\n",
      " 45%|████▌     | 5/11 [00:00<00:00, 43.21it/s]"
     ]
    },
    {
     "name": "stdout",
     "output_type": "stream",
     "text": [
      "iori2008.pdf\n"
     ]
    },
    {
     "name": "stderr",
     "output_type": "stream",
     "text": [
      "100%|██████████| 11/11 [00:00<00:00, 40.99it/s]\n",
      "  0%|          | 0/12 [00:00<?, ?it/s]"
     ]
    },
    {
     "name": "stdout",
     "output_type": "stream",
     "text": [
      "gauthier2019.pdf\n"
     ]
    },
    {
     "name": "stderr",
     "output_type": "stream",
     "text": [
      "100%|██████████| 12/12 [00:01<00:00,  8.51it/s]\n",
      "  0%|          | 0/8 [00:00<?, ?it/s]"
     ]
    },
    {
     "name": "stdout",
     "output_type": "stream",
     "text": [
      "ncomms12695.pdf\n"
     ]
    },
    {
     "name": "stderr",
     "output_type": "stream",
     "text": [
      "100%|██████████| 8/8 [00:00<00:00,  8.43it/s]\n",
      "100%|██████████| 6/6 [00:00<00:00, 45.59it/s]\n",
      "  0%|          | 0/26 [00:00<?, ?it/s]"
     ]
    },
    {
     "name": "stdout",
     "output_type": "stream",
     "text": [
      "lin2012.pdf\n",
      "schnur2009.pdf\n"
     ]
    },
    {
     "name": "stderr",
     "output_type": "stream",
     "text": [
      "100%|██████████| 26/26 [00:00<00:00, 90.43it/s]"
     ]
    },
    {
     "name": "stdout",
     "output_type": "stream",
     "text": [
      "DONE\n"
     ]
    },
    {
     "name": "stderr",
     "output_type": "stream",
     "text": [
      "\n"
     ]
    }
   ],
   "source": [
    "texts = pdf2text('au-water-edl/')"
   ]
  },
  {
   "cell_type": "code",
   "execution_count": 60,
   "metadata": {},
   "outputs": [],
   "source": [
    "# qu = ['Au(111)', 'Au (111)', '(111)', '553']\n",
    "# qu=['temp', 'temperature', 'room']\n",
    "qu=['exchange-correlation','gold layer', 'optimized', 'optimised']\n",
    "qu=['PBE']"
   ]
  },
  {
   "cell_type": "code",
   "execution_count": 61,
   "metadata": {},
   "outputs": [],
   "source": [
    "def query4kw(texts, qu):\n",
    "    for k,v in texts.items():\n",
    "        for ind, page in enumerate(v):\n",
    "            for i, line in enumerate(page):\n",
    "                res = [ele for ele in qu if ele in line]\n",
    "                if any(res):\n",
    "        \n",
    "                    print(f\"{k}:, {ind+1}, {i}, {line}\")"
   ]
  },
  {
   "cell_type": "code",
   "execution_count": 62,
   "metadata": {},
   "outputs": [
    {
     "name": "stdout",
     "output_type": "stream",
     "text": [
      "Le2018-SI:, 2, 71, expansionwassetto400Ry.WeemployedPerdew-Burke-Ernzerhof(PBE)functional\n",
      "Le2018-SI:, 3, 13, PBEfunctional\n",
      "cicero2011-SI:, 11, 13, PBE-D calculations \n",
      "cicero2011-SI:, 11, 25, decreases from 2.81 Å (at PBE level) to 2.54 Å (at PBE-D leve\n",
      "cicero2011-SI:, 12, 5, energy configuration calculated at PBE level with (\n",
      "cicero2011-SI:, 12, 24, nvolved in the interaction calculated at PBE \n",
      "cicero2011-SI:, 12, 25, and PBE-D level. \n",
      "SI_AIMD_benchmark_solvation:, 4, 48, sible,withthesameRPBE-D3functional\n",
      "berg2017:, 2, 68, surfaceselectedcalculationswererepeatedwiththePBE\n",
      "berg2017:, 3, 49, DFcalculationsyieldedlowerenergiesthanPBEfunctionals\n",
      "berg2017:, 3, 54, energy.OurPBEresultof\n",
      "berg2017:, 3, 63, !28.9.OurPBEresultsfortheAu(111)topsiteare\n",
      "berg2017:, 3, 99, repeatedusingthePBEfunctionaltoshowthein\n",
      "berg2017:, 3, 112, eitherPBEorrevPBEexchangegaveadsorptionenergiesin\n",
      "berg2017:, 3, 117, withrevPBEexchangeundere\n",
      "berg2017:, 3, 119, adsorptionenergyonPt(111),butvdW-DFwithPBEexchange\n",
      "berg2017:, 3, 121, revPBE(PBE)exchangeunderestimated(overestimated)the\n",
      "berg2017:, 4, 73, PBE(001)top\n",
      "berg2017:, 4, 88, 21PBE(111)top\n",
      "berg2017:, 4, 103, solidlines,andPBEresultsarerepresentedbybluedashedlines.\n",
      "chan2019:, 2, 8, 0.5eVwithPBE).\n",
      "chan2019:, 2, 13, PBE,21,220.24eVwithPBE-D2,\n",
      "chan2019:, 2, 15, vdW,21and0.192eVwithrevPBE-vdW\n",
      "chan2019:, 6, 0, 5.3.5.4446PBE47withGrimme\n",
      "kolb2014:, 2, 119, 13Ð16usingthePBEexchange-\n",
      "kolb2014:, 2, 122, 18,19ThePBE\n",
      "tonigold2012:, 1, 4, AComparisonofthePBEandRPBEFunctionalIncluding\n",
      "tonigold2012:, 1, 16, DFTcalculationsforsemi-inﬁnitesubstratesusingthepopularPBE\n",
      "tonigold2012:, 1, 18, andRPBEfunctionals,thewaterdimerandwater–metalatomsys-\n",
      "tonigold2012:, 1, 27, chosencarefully.Whereasthedispersion-correctedRPBEfunc-\n",
      "tonigold2012:, 1, 30, water–metalinteraction,thedispersion-correctedPBEfunctional\n",
      "tonigold2012:, 1, 34, theadsorptiondistancespredictedbythePBEfunctionalishardly\n",
      "tonigold2012:, 1, 38, thegoodperformanceofpreviousDFT-PBEstudiesofwater–\n",
      "tonigold2012:, 1, 65, forinthesestudies.Still,inparticular,thePBE-GGAfunctional\n",
      "tonigold2012:, 1, 68, becausePBEgivesareliabledescriptionofthehydrogen-\n",
      "tonigold2012:, 1, 139, WefocusonthePBE\n",
      "tonigold2012:, 1, 140, [13]andRPBE\n",
      "tonigold2012:, 2, 25, thePerdew,Burke,andErnzerhof(PBE)functional\n",
      "tonigold2012:, 2, 27, version(RPBE)ofHammeretal.\n",
      "tonigold2012:, 2, 112, methodsormixingexactexchangetothePBEdensityfunctional\n",
      "tonigold2012:, 2, 114, (PBE0).[52]TheLANL2TZeffectivecorepotential\n",
      "tonigold2012:, 2, 136, usingboththePBEandtheRPBEfunctionals,theH-downstruc-\n",
      "tonigold2012:, 2, 146, energiesobtainedwiththePBEfunctionalareby0.10–0.17eV\n",
      "tonigold2012:, 2, 148, largerthanthecorrespondingvaluesdeducedwiththeRPBE\n",
      "tonigold2012:, 3, 8, Hence,forbothPBE-D3andRPBE-D3,animportantcontribution\n",
      "tonigold2012:, 3, 12, (26–30%forPBEand40–47%forRPBE).\n",
      "tonigold2012:, 3, 18, ).However,althoughPBE-D3yieldsadsorptionenergiesthatare\n",
      "tonigold2012:, 3, 20, stillsmallerthanthebulklatticeenergy,RPBE-D3suggeststhe\n",
      "tonigold2012:, 3, 26, thepurePBEfunctionalandavdW-DFapproachtomodelwater\n",
      "tonigold2012:, 3, 36, loweradsorptionenergythanthepurePBEfunctional.\n",
      "tonigold2012:, 3, 40, calculatedbymeansofRPBE-D3.\n",
      "tonigold2012:, 3, 42, surfaceaccordingtoPBEandRPBE,thetotaladsorptionenergy\n",
      "tonigold2012:, 3, 61, afactorof2.5–5forthePBEandbyafactorof17–23forthe\n",
      "tonigold2012:, 3, 63, RPBEfunctional),whereasithaslessinﬂuenceonthewater-water\n",
      "tonigold2012:, 3, 65, interaction(enhancementbyafactorof1.03–1.08forthePBE\n",
      "tonigold2012:, 3, 67, andafactorof1.10–1.22fortheRPBEfunctional).\n",
      "tonigold2012:, 3, 69, CalculatedadsorptionenergiesoftheH-downstructureonclosedpackedsurfacesofdifferentmetalsusingthePBEa)andtheRPBEb)densityfunction\n",
      "tonigold2012:, 4, 5, thesingletstate.ThecalculationshavebeendoneusingeitherGAUSSIAN03(forCCSD(T),PBE0)inconnectionwiththelocalbasissetsaug-cc-pVTZan\n",
      "tonigold2012:, 4, 7, orVASP(forRPBE,PBE)inconnectionwiththePAWmethod.\n",
      "tonigold2012:, 4, 11, bythenondispersioncorrectedPBEandRPBEfunctional.The\n",
      "tonigold2012:, 4, 13, PBEfunctionalpredictsaslightlystrongerH\n",
      "tonigold2012:, 4, 17, −0.33eVforRPBE)\n",
      "tonigold2012:, 4, 26, culatedbymeansofthePBEfunctionalisanorderofmagnitude\n",
      "tonigold2012:, 4, 28, largerthanthecorrespondingvaluesobtainedusingtheRPBE\n",
      "tonigold2012:, 4, 40, applyingPBEandbymixingexactexchangetoPBE(PBE0),the\n",
      "tonigold2012:, 4, 44, (deviation<4%),whereastheRPBEfunctionalunderestimates\n",
      "tonigold2012:, 4, 49, PBE(orPBE0)andCCSD(T)seemstobeaccidently.IfGrimme’s\n",
      "tonigold2012:, 4, 51, D3correctionschemeisappliedbothPBE-D3andPBE0-D3\n",
      "tonigold2012:, 4, 55, whereasRPBE-D3agreeswellwiththeCCSD(T)interactionenergy\n",
      "tonigold2012:, 4, 68, perfectlyreproducedbyPBE\n",
      "tonigold2012:, 4, 70, ).TheRPBEfunctional,by\n",
      "tonigold2012:, 4, 77, PBEand0.45–0.52eVforRPBE\n",
      "tonigold2012:, 4, 81, areaccountedfor,theRPBE-D3methodyieldsalatticeenergyof\n",
      "tonigold2012:, 4, 82, −0.65eV,thatisremarkablyclosetoexperiment,andthePBE-D3\n",
      "tonigold2012:, 4, 92, surfacesofdifferentmetalsusingPBE,RPBE,andtheiranalogsaugmentedwith\n",
      "tonigold2012:, 5, 4, clusters,PBEtendstooverestimatelinearhydrogenbonds\n",
      "tonigold2012:, 5, 7, stateandawatermolecule,thePBEfunctionallargelyoveresti-\n",
      "tonigold2012:, 5, 15, ofbothPBE0andRPBEismuchbetter:Fortheorientationin\n",
      "tonigold2012:, 5, 23, performanceofthepureGGAfunctional(RPBE)isevenslightly\n",
      "tonigold2012:, 5, 35, andDFTcalculations.However,concerningtheRPBE-D3method,\n",
      "tonigold2012:, 5, 41, foreconsiderablysmallerthantheerrorofthePBEorPBE-D3\n",
      "tonigold2012:, 5, 57, (PBE)or1.26–1.87Å(RPBE)closertothesurface.Inaccordance\n",
      "tonigold2012:, 5, 61, PBEfunctionaldescribedabove,thecorrespondingadsorption\n",
      "tonigold2012:, 5, 65, obtainedwithDFT-Dmethods.Incontrastthereto,RPBEdoes\n",
      "tonigold2012:, 5, 71, accountedfor,bothmethods(PBE-D3andRPBE-D3)endupwith\n",
      "tonigold2012:, 5, 85, havingacloserlookatthePBEoptimizedH-downstructure\n",
      "tonigold2012:, 5, 102, distancesisnotchanged,iftheRPBEfunctionalisusedinstead\n",
      "tonigold2012:, 5, 133, [63–66]Consequently,thepureGGAfunctionalsPBEand\n",
      "tonigold2012:, 5, 134, RPBEhavebeenusedtocalculatetheworkfunctionchanges\n",
      "tonigold2012:, 5, 142, distancesdeducedfromthePBE,PBE-D3,andRPBE-D3methods.\n",
      "tonigold2012:, 5, 176, thePBEfunctionalisonlysuitabletoalimitedextend.Acom-\n",
      "tonigold2012:, 5, 178, parisonofthePBEandRPBEexchange-correlationfunctionals\n",
      "tonigold2012:, 5, 180, andtheirdispersioncorrectedanalogsshowedthattheRPBE-D3\n",
      "tonigold2012:, 5, 186, thewatermoleculeandametalatom.Intotal,usingRPBE-D3\n",
      "tonigold2012:, 5, 193, Bycontrast,thepurePBEfunctionalalreadypredictsthe\n",
      "tonigold2012:, 5, 203, PBEfunctional,andtheapplicationofsemi-empiricaldisper-\n",
      "tonigold2012:, 6, 9, Asfarastheadsorptiondistancesareconcerned,bothPBE-D3\n",
      "tonigold2012:, 6, 10, andRPBE-D3resultinverysimilarvalues.Remarkably,alsothe\n",
      "tonigold2012:, 6, 12, equilibriumdistancesofthepurePBEfunctionalarecomparable\n",
      "tonigold2012:, 6, 22, purePBEcalculations,althoughdispersioneffectsweremissing.\n",
      "tonigold2012:, 6, 23, Thus,forpurewater–metalsystems,thePBEfunctionalyields\n",
      "tonigold2012:, 6, 28, calculationswiththeRPBEfunctionalseemtobeabetterchoice.\n",
      "tonigold2012:, 6, 29, Finally,itshouldbeemphasizedthattheRPBE-D3methodis\n",
      "tonigold2012:, 6, 30, justonealternativetothepurePBEfunctional.Thereareother\n",
      "tonigold2012:, 6, 32, functionals,suchasBLYP,revPBE,andB97-D,thathavebeen\n",
      "morales2013:, 3, 137, ±Ernzerhof(PBE)\n",
      "morales2013:, 7, 166, facets).ItisimportanttoremarkatthispointthatPBE,thexc-\n",
      "AIMD_benchmark_solvation:, 5, 0, incombinationwithaplanewavebasissetinperiodicboundaryconditions.TheRPBE\n",
      "AIMD_benchmark_solvation:, 5, 7, .This\\RPBE-D3\"\n",
      "AIMD_benchmark_solvation:, 5, 50, fortheemployedRPBE-D3schemebasedona1\n",
      "AIMD_benchmark_solvation:, 9, 41, related(asknownforrevPBE)\n",
      "cappa2006:, 2, 74, typeorbitals(LCAO)approach.TheRPBEgradient-corrected\n",
      "cappa2006:, 2, 76, exchangefunctionalandthePBEcorrelationfunctionalwere\n",
      "cappa2005:, 2, 174, nonlocalRPBEPBEfunctionals.Forthe16surrounding\n",
      "michaelides2006:, 1, 119, Perdew,Burke,andErnzerhoff(PBE)[12].Asidefromsaying\n",
      "---cicero2011:, 2, 18, gradientcorrectedapproximation(PBE),\n",
      "---cicero2011:, 2, 69, atwhichDFTusingPBEandCPdynamicsyieldedresultsingood\n",
      "---cicero2011:, 4, 59, !eldandPBE-D\n",
      "10.1002@anie.201710791:, 8, 10, namics,anddynamicsfromPBE+U.\n",
      "le2017:, 2, 101, (111).WeemployedPBE-D3functional,becausePBE\n",
      "le2017:, 2, 139, cuto!wassetto400Ry.WeemployedPBEfunctional\n",
      "le2017:, 4, 108, thePBE-D3method\n",
      "donadio2012:, 2, 83, usingthefunctionalbyPerdew,Burke,andErnzerhof(PBE).\n",
      "donadio2012:, 2, 95, of65Ry.ThePBEfunctional\n",
      "donadio2012:, 2, 124, eitherPBE(0.51eV)orthenonlocalvdW-DFfunctional\n",
      "donadio2012:, 2, 133, predictions.]IngeneralPBEperformsquitewellalsowithrespecttoH\n",
      "donadio2012:, 3, 58, functional(PW91vsPBEinourcase)andthesimulation\n",
      "pedroza2015:, 2, 86, PBE(Perdew-Burke-Ernzerhof)\n",
      "pedroza2015:, 2, 95, 28(DRSLL),inwhichPBEisusedasthe\n",
      "pedroza2015:, 2, 96, localtermofDRSLLfunctional,insteadofrevPBEasorigi-\n",
      "pedroza2015:, 2, 98, PBEfunctionalhasrecentlybeen\n",
      "pedroza2015:, 3, 22, samplingpartofourstudyisonlydoneforthePBEsimu-\n",
      "pedroza2015:, 3, 24, PBEprovide\n",
      "pedroza2015:, 3, 49, T=325KforPBEand\n",
      "pedroza2015:, 3, 51, PBEduring5ps.Ourresultsshowthatthedi\n",
      "pedroza2015:, 3, 68, interfacesforbothPBEandvdW-DF\n",
      "pedroza2015:, 3, 69, PBE,respectively.The\n",
      "pedroza2015:, 3, 73, ForPBE,theinterfaceintheupperplotofFig.\n",
      "pedroza2015:, 3, 83, /H2O(PBE)simulationsstartingfromtwodi\n",
      "pedroza2015:, 3, 110, completez-distributionproÞlesforthePBEsimulationsare\n",
      "pedroza2015:, 3, 128, attheverybeginningofPBEsimulation(\n",
      "pedroza2015:, 4, 19, Pd/H2OPBE0804249\n",
      "pedroza2015:, 4, 21, Pd/H2O(#)PBE0804249\n",
      "pedroza2015:, 4, 24, PBE0804249\n",
      "pedroza2015:, 4, 26, Pd/H2OPBE\n",
      "pedroza2015:, 4, 29, Pd/H2OPBE\n",
      "pedroza2015:, 4, 32, Au/H2OPBE0374129\n",
      "pedroza2015:, 4, 35, PBE0374129\n",
      "pedroza2015:, 4, 68, morestableforthePBEfunctional.\n",
      "pedroza2015:, 4, 70, PBE,the\n",
      "pedroza2015:, 4, 83, (a)PBEand(c)vdW-DF\n",
      "pedroza2015:, 4, 84, PBE.Thepo-\n",
      "pedroza2015:, 4, 90, (b)forPBEandin(d)forvdW-DF\n",
      "pedroza2015:, 4, 91, PBE.Watermoleculescanbeseenformedby\n",
      "pedroza2015:, 5, 5, atbothmetalinterfacesforPBE(top\n",
      "pedroza2015:, 5, 7, PBE(bottompan-\n",
      "pedroza2015:, 5, 49, 4(a)(PdPBE),wecanseethattherearetwopeaks,corresponding\n",
      "pedroza2015:, 5, 53, PBE),wherethedistributionisbroaderanditis\n",
      "pedroza2015:, 6, 29, 7weestimatethatforPBEtheordered\n",
      "pedroza2015:, 6, 43, electrodeconditions.Eachsimulationisalso10pslong.PBE\n",
      "pedroza2015:, 6, 66, e$/†2.XC!(eV)\"!(eV)\"CT(e$/†2)PdPBE5.15(5.6\n",
      "pedroza2015:, 6, 70, PBE5.401.22\n",
      "pedroza2015:, 6, 72, .5!10$3AuPBE5.13(5.31\n",
      "pedroza2015:, 6, 75, PBE5.34$0.68±0.393\n",
      "pedroza2015:, 6, 80, onlyforthePBEfunctional,whichpresentedalargercharge\n",
      "pedroza2015:, 6, 105, 14wehavealsoperformedAIMDsimulations(withbothPBE\n",
      "pedroza2015:, 6, 107, PBEfunctionals)oftheAu(111)-H\n",
      "pedroza2015:, 6, 118, 4(c)and4(d),forAusimulationsusingPBE\n",
      "pedroza2015:, 6, 120, PBE,respectively.\n",
      "pedroza2015:, 6, 126, duethebindingoverestimationofPBE.\n",
      "pedroza2015:, 6, 133, observedinthePBEsimulation,whichwouldßuctuateata\n",
      "pedroza2015:, 7, 9, $1|e|in(c)usingPBE\n",
      "pedroza2015:, 7, 25, /PBEsimulation.However,wecanobservea\n",
      "pedroza2015:, 7, 38, PBEand(b)vdW-DF\n",
      "pedroza2015:, 7, 39, PBE.Thesurface\n",
      "pedroza2015:, 7, 44, lines)asobtainedfor(c)PBEand(d)\n",
      "pedroza2015:, 7, 46, PBEsimulations. This article is copyrighted as indicated in the article. Reuse of AIP content is subject to the terms at: http://scitation.aip.org/termsconditions. Downloaded to  IP:129.173.72.87 On: Sun, 21 Jun 2015 22:59:05\n",
      "pedroza2015:, 8, 64, PBE,thenetchargetransferisreduced,which\n",
      "pedroza2015:, 9, 73, PBE\n",
      "pedroza2015:, 9, 75, withrespecttoPBE.\n",
      "gross2014:, 1, 115, tionalofPerdew,Burke,andErnzerhof(PBE).\n",
      "gross2014:, 1, 117, usingtherevisedPBEfunctional(RPBE)byHammeretal.\n",
      "gross2014:, 5, 23, DFTfunctionalssuchasthePBEfunctional\n",
      "gross2014:, 5, 28, PBEfunctional.Asawayout,ithasbeensuggestedtoperformDFT-\n",
      "gross2014:, 5, 29, PBEsimulationsofliquidwaterathighertemperatures,\n",
      "gross2014:, 5, 36, interaction.WeproposetousetheRPBEfunctional\n",
      "gross2014:, 5, 40, expensive.RecentlywewereabletoshowthatusingtheRPBEfunc-\n",
      "gross2014:, 5, 48, aRPBE-Dapproachthewettingbehaviorofwateronclose-packed\n",
      "gross2014:, 5, 51, usingeitherPBE,PBE-DorpureRPBEcalculations.\n",
      "pekoz2014:, 2, 50, (PBE).36Theintegrationoverthe\n",
      "pekoz2014:, 2, 71, 40ThechosenPBEfunctionalhasprovengoodaccuracyin\n",
      "pekoz2014:, 2, 180, erentexchange-correlationfunctionals(PBE,\n",
      "pekoz2014:, 2, 181, PBEsol,52,53\n",
      "pekoz2014:, 2, 216, favorableadsorptionsitewiththePBEfunctionalisatop\n",
      "huzayyin2014:, 2, 128, !Ernzerhof(PBE)\n",
      "huzayyin2014:, 4, 2, workinref43wherePBEandoptB88-vdW(vanderWaals\n",
      "huzayyin2014:, 4, 22, !guresinref43.Inaddition,usingPBE,fourstable\n",
      "huzayyin2014:, 5, 91, usingPBE.\n",
      "kamalakannan2018:, 3, 74, geometriesofalloftheseILsascomputedatthePBE/6-311+\n",
      "kamalakannan2018:, 3, 104, OptimizedstructuresofILscomputedatthePBE/6-311++G\n",
      "kamalakannan2018:, 3, 109, +[X])atthePBE/6-\n",
      "kamalakannan2018:, 3, 110, 311++G**LevelaBEs[BMIm]+[X]whereX=PBEPBE+D3\n",
      "kamalakannan2018:, 3, 125, optimizedgeometriesfromthePBE/6-311++G\n",
      "kamalakannan2018:, 4, 2, +[X]ascomputedatthePBE/6-311++G\n",
      "kamalakannan2018:, 4, 31, Ernzerhof(PBE)+D3).Thistableshowsthatthecontribution\n",
      "kamalakannan2018:, 4, 101, Optimizedgeometricalstructures,ascomputedatthePBE+D3/TZVPleveloftheory,ofvarioushydrophilicILs@Au(111)surfacesand\n",
      "kamalakannan2018:, 5, 17, vdWstypeofinteractionintheseadsorptions,thePBE+D3\n",
      "kamalakannan2018:, 5, 33, +[X]@Au(111))UsingPBEandPBE+D3Methods\n",
      "kamalakannan2018:, 5, 34, aPBE/TZVPPBE+D3/TZVPPBE+D3/TZV2P\n",
      "kamalakannan2018:, 5, 35, bPBE+D3/TZVPPBE+D3/6-311++G\n",
      "kamalakannan2018:, 5, 50, aThePBE+D3computationsweredoneusingthePBE/TZVPoptimizedgeometry.\n",
      "kamalakannan2018:, 5, 54, bEadscalculatedfromPBE+D3/TZVPgeometriesfortheTZV2Pbasisset(consideronlyforIL).\n",
      "kamalakannan2018:, 5, 56, Optimizedequilibriumstructures,ascomputedatthePBE+D3/TZVPleveloftheory,ofvarioushydrophobicILsontheAu(111)\n",
      "kamalakannan2018:, 6, 18, 22kcal/molusingthePBE+D3/TZV2Pmethod.\n",
      "kamalakannan2018:, 6, 81, computedwiththePBE/TZVPmethodarewronglypositive,\n",
      "kamalakannan2018:, 6, 127, obtainedfromsinglepointcomputationsatthePBE(+D3)/\n",
      "kamalakannan2018:, 6, 223, computedatthePBE+D3/TZVPlevel.NotethatonlyCl\n",
      "kamalakannan2018:, 8, 45, EDAbyusingthePerdew,Burke,andErnzerhof(PBE)\n",
      "kamalakannan2018:, 8, 58, (atPBE+D3/TZVP)tostudythechargedistributiononthe\n",
      "kamalakannan2018:, 9, 114, byDFT-basedPBEandPBE+D3methods.Ourstudyclearly\n",
      "kamalakannan2018:, 9, 175, BurkeErnzerhof(PBE)generalizedgradientapproximationdensity\n",
      "kamalakannan2018:, 9, 189, withoutconstraintsatthePBE(+D3)level,followedby\n",
      "kamalakannan2018:, 11, 10, (atPBE+D3/TZVP)tostudythechargedistributiononthe\n",
      "le2017-pzc:, 3, 39, UICKSTEPpackage[42].WeusedthePerdew-Burke-Ernzerhof(PBE)func-\n",
      "le2017-pzc:, 3, 65, !areasaccurateasthePZCpredictedbythesamePBE\n",
      "le2017-pzc:, 3, 83, \"!computedbythePBEfunctional\n",
      "le2017-pzc:, 3, 116, potentialsatthePt(111),Au(111),Pd(111),andAg(111)waterinterfacesusingthePBEfunctional.Thedatainthe\n",
      "le2017-pzc:, 4, 104, bythePBEfunctional.TheyareaveragedoveraDFTMD\n",
      "iori2009:, 5, 9, Au(111).ThePBExcfunctional\n",
      "iori2009:, 5, 107, (includingPBE)donotproperlyaccountforlong-rangevander\n",
      "iori2009:, 8, 51, TheuseofeffectiveLJparameterstoﬁtPBEresultsdoesnot\n",
      "iori2009:, 8, 53, implythatPBEisabletodescribelongrangeattractiveinterac-\n",
      "iori2009:, 10, 58, thegradient-correctedPBEexchange-correlationfunctional,\n",
      "nadler2012:, 1, 13, (GGA)functionalPBEisemployed.Second,anadditionalenergytermisfurtherincludedthatadds\n",
      "nadler2012:, 1, 14, asemi-empiricallyderiveddispersioncorrection(PBE-D2),and,Þnally,arecentlyproposedfunc-\n",
      "nadler2012:, 1, 31, however,nodisruptionofH-bondsisobserved.WhilethePBEandPBE-D2spectraareverysimi-\n",
      "nadler2012:, 2, 23, 15TheDFT-D2approachmightbeproblematicifusedwiththePBE\n",
      "nadler2012:, 2, 26, 22(RPBE)onlydoessoby\n",
      "nadler2012:, 2, 27, 6%.23Therefore,theRPBEwouldbeabetterchoicetocalcu-\n",
      "nadler2012:, 2, 42, 0.3†whenapplyingthePBE-D2approach.\n",
      "nadler2012:, 2, 58, vdW-DFvariantbasedupontheoptimizedPBEfunctional\n",
      "nadler2012:, 2, 59, (optPBE-vdW).28Particularly,ifonlythepropertiesofthe\n",
      "nadler2012:, 2, 66, large,althoughnotaslargeasiftheoriginalrevPBE-vdW\n",
      "nadler2012:, 2, 162, lations.ThesearecarriedoutusingthePBEfunctional,both\n",
      "nadler2012:, 3, 42, computationalapproaches.First,theGGAfunctionalPBE\n",
      "nadler2012:, 3, 45, 17whichwelabelPBE-D2.The\n",
      "nadler2012:, 3, 81, 1)wasoptimized.ThePBElatticeconstantwascalculatedto\n",
      "nadler2012:, 3, 82, be4.174†;forthePBE-D2itresultedinitbeingslightly\n",
      "nadler2012:, 3, 84, yieldedavalueof4.148†.WealsocheckedtheoptPBE-\n",
      "nadler2012:, 3, 88, a0(optPBE-vdW)>a0(PBE)>a0(optB86b-vdW)issimilartothatreportedbyKlime\n",
      "nadler2012:, 3, 92, formedonecalculationusingtheoptPBE-vdWfunctionalto\n",
      "nadler2012:, 3, 96, therefore,theoptPBE-vdWfunctionalwasnotfurtherused\n",
      "nadler2012:, 3, 125, 3.However,forthePBEfunctional,theequilibrium\n",
      "nadler2012:, 3, 131, actuallysuggestedintheirarticlethatthePBEfunc-\n",
      "nadler2012:, 3, 134, rectbehaviorofliquidPBEwateris330K.\n",
      "nadler2012:, 4, 62, s15d10)ofeachAuatom.ThePBE,\n",
      "nadler2012:, 4, 63, 55PBE-D217andtheoptB86b-\n",
      "nadler2012:, 5, 35, timestepof0.5fsinlength,wasperformed.Again,thePBE,\n",
      "nadler2012:, 5, 36, PBE-D2,andoptB86b-vdWfunctionalswereusedtoobtain\n",
      "nadler2012:, 5, 52, surprisingly,thePBEadsorptionenergyistheweakest,with\n",
      "nadler2012:, 5, 60, %0.11eVforPBE,\n",
      "nadler2012:, 5, 61, %0.24eVforPBE-D2,and\n",
      "nadler2012:, 5, 65, PBEPBE-D2optB86b-vdW\n",
      "nadler2012:, 5, 80, onecalculationthatwasperformedusingtheoptPBE-vdW\n",
      "nadler2012:, 5, 93, PBE-D2arecompletelyunreasonable.Forthethreesystems\n",
      "nadler2012:, 5, 115, slabs.Fortheseven-layeredPBEsystem,\n",
      "nadler2012:, 5, 122, PBEdistanceissimilartothePBE-D2distance,goingfrom\n",
      "nadler2012:, 5, 123, $2.78†(PBE)downtoroughly2.75†(PBE-D2).Thedis-\n",
      "nadler2012:, 5, 128, re-portedanevenshorterPBE-D2distance(2.54†),\n",
      "nadler2012:, 5, 140, OnlyresultsfromcalculationsperformedwiththePBEand\n",
      "nadler2012:, 6, 11, PBEoptB86b-vdW\n",
      "nadler2012:, 6, 33, 11.PBEwithUS-PP.Auslabwasrelaxedentirely.\n",
      "nadler2012:, 6, 60, tothesurface,asitcouldbeexpected.InthePBEcaseitin-\n",
      "nadler2012:, 7, 102, †.TheAu-OdistancesobtainedwiththePBEfunctionalare\n",
      "nadler2012:, 7, 104, PBE-D2functionals.\n",
      "nadler2012:, 8, 5, optB86b-vdWaregiven,in(b)forPBE-D2andin(c)forthePBEfunctional.\n",
      "nadler2012:, 8, 32, dAu-O#%PBEA2.620(\n",
      "nadler2012:, 8, 38, ±10)PBE-D2A2.525(\n",
      "nadler2012:, 8, 56, toousingthePBE-D2methodology,although\n",
      "nadler2012:, 9, 58, PBEfunctionalanditsdispersioncorrectedPBE-D2varia-\n",
      "nadler2012:, 9, 71, viathePBEfunctional.Thecorresponding\n",
      "nadler2012:, 10, 9, 2OforPBE,PBE-D2\n",
      "nadler2012:, 10, 25, \"lib\"bend\"stretchPBEAu\n",
      "nadler2012:, 10, 29, PBE-D2Au\n",
      "nadler2012:, 10, 51, bers,anindicatorforlargerbondangles.ForthePBEfunc-\n",
      "nadler2012:, 11, 33, rectedPBE-D2andtheoriginalPBEfunctionalareemployed,\n",
      "nadler2012:, 11, 46, 2Ointerface,basedonPBE,PBE-D2,andoptB86b-\n",
      "nadler2012:, 11, 52, face,nearlytriplingtheinteractionenergywhenthePBEand\n",
      "nadler2012:, 11, 53, theoptB86b-vdWenergiesarecompared.ThePBE-D2re-\n",
      "nadler2012:, 11, 59, dAu-OwassimilartothePBEdistance.Allinall,thetypicaladsorp-\n",
      "nadler2012:, 11, 65, nouncedforthePBEfunctional.Also,whencoverageisset\n",
      "nadler2012:, 11, 74, TheMDsimulationsshowthatoptB86b-vdWandPBE-\n",
      "nadler2012:, 11, 76, theAusurfacethanthePBEdistance.Still,thisincreasein\n",
      "gauthier2019:, 2, 150, usingtheRPBEfunctional\n",
      "lin2012:, 2, 13, thePerdew,BurkeandErnzerhof(PBE)exchange\n",
      "schnur2009:, 5, 6, withintheexchangeŒcorrelationfunctionalbyPerdew,BurkeandErnzerhof(PBE)[\n"
     ]
    }
   ],
   "source": [
    "query4kw(texts, qu)"
   ]
  },
  {
   "cell_type": "code",
   "execution_count": null,
   "metadata": {},
   "outputs": [],
   "source": []
  },
  {
   "cell_type": "code",
   "execution_count": null,
   "metadata": {},
   "outputs": [],
   "source": []
  }
 ],
 "metadata": {
  "kernelspec": {
   "display_name": "Python 3",
   "language": "python",
   "name": "python3"
  },
  "language_info": {
   "codemirror_mode": {
    "name": "ipython",
    "version": 3
   },
   "file_extension": ".py",
   "mimetype": "text/x-python",
   "name": "python",
   "nbconvert_exporter": "python",
   "pygments_lexer": "ipython3",
   "version": "3.9.0"
  }
 },
 "nbformat": 4,
 "nbformat_minor": 4
}

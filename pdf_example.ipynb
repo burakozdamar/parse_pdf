{
 "cells": [
  {
   "cell_type": "code",
   "execution_count": 8,
   "metadata": {},
   "outputs": [],
   "source": [
    "import PyPDF2\n",
    "import os\n",
    "from tqdm import trange "
   ]
  },
  {
   "cell_type": "code",
   "execution_count": 9,
   "metadata": {},
   "outputs": [],
   "source": [
    "# for file in os.listdir('.'):\n",
    "    \n",
    "#     text_dict={}\n",
    "#     text=[]\n",
    "\n",
    "#     try:   \n",
    "#         if file.endswith('.pdf'):\n",
    "#             print(file.split('/')[-1])\n",
    "#             print('-'*8)\n",
    "#             file = open(file, 'rb')\n",
    "#             pdfReader = PyPDF2.PdfFileReader(file)\n",
    "\n",
    "#             for page in range(pdfReader.numPages):\n",
    "#                 page = pdfReader.getPage(page)\n",
    "#                 text.append(page.extractText().split('\\n'))\n",
    "\n",
    "#         qu = ['Au(111)', 'Au (111)', '(111)', '111']\n",
    "#     #     qu = ['111']\n",
    "\n",
    "#         for page_num, page in enumerate(text):\n",
    "#             for line_num, line in enumerate(page):\n",
    "\n",
    "#                 res = [ele for ele in qu if ele in line] \n",
    "\n",
    "#                 if any(res):\n",
    "\n",
    "#                     print(page_num+1,line_num, line)\n",
    "\n",
    "#         print('='*8)\n",
    "#     except:\n",
    "#         pass"
   ]
  },
  {
   "cell_type": "code",
   "execution_count": 10,
   "metadata": {},
   "outputs": [],
   "source": [
    "def pdf2text(folder):\n",
    "    dct={}\n",
    "    print(f\"{len(os.listdir(folder))} in total\")\n",
    "    for file in os.listdir(folder):\n",
    "        \n",
    "        text=[]\n",
    "        \n",
    "        if file.endswith('.pdf'):\n",
    "            try:\n",
    "                print(file)\n",
    "\n",
    "                pdfFile = open(folder+file, 'rb')\n",
    "                pdfReader = PyPDF2.PdfFileReader(pdfFile)\n",
    "\n",
    "                for page in trange(pdfReader.numPages):\n",
    "                    page = pdfReader.getPage(page)\n",
    "                    text.append(page.extractText().split('\\n'))\n",
    "                    \n",
    "            except TypeError as e:\n",
    "                print(e)\n",
    "                \n",
    "        dct[file.split(\".pdf\")[0]]=text\n",
    "    print(\"DONE\")\n",
    "    return dct"
   ]
  },
  {
   "cell_type": "code",
   "execution_count": 11,
   "metadata": {},
   "outputs": [
    {
     "name": "stderr",
     "output_type": "stream",
     "text": [
      "100%|██████████| 10/10 [00:00<00:00, 143.57it/s]\n",
      "  0%|          | 0/14 [00:00<?, ?it/s]"
     ]
    },
    {
     "name": "stdout",
     "output_type": "stream",
     "text": [
      "58 in total\n",
      "Le2018-SI.pdf\n",
      "cicero2011-SI.pdf\n"
     ]
    },
    {
     "name": "stderr",
     "output_type": "stream",
     "text": [
      "100%|██████████| 14/14 [00:00<00:00, 111.51it/s]\n",
      "100%|██████████| 17/17 [00:00<00:00, 153.79it/s]\n",
      "  0%|          | 0/14 [00:00<?, ?it/s]"
     ]
    },
    {
     "name": "stdout",
     "output_type": "stream",
     "text": [
      "SI_AIMD_benchmark_solvation.pdf\n",
      "berg2017.pdf\n"
     ]
    },
    {
     "name": "stderr",
     "output_type": "stream",
     "text": [
      "100%|██████████| 14/14 [00:00<00:00, 35.78it/s]\n",
      "100%|██████████| 7/7 [00:00<00:00, 36.75it/s]\n"
     ]
    },
    {
     "name": "stdout",
     "output_type": "stream",
     "text": [
      "chan2019.pdf\n",
      "baldelli2008.pdf\n"
     ]
    },
    {
     "name": "stderr",
     "output_type": "stream",
     "text": [
      "100%|██████████| 11/11 [00:00<00:00, 75.10it/s]\n",
      "100%|██████████| 5/5 [00:00<00:00, 69.76it/s]\n",
      "100%|██████████| 7/7 [00:00<00:00, 49.76it/s]"
     ]
    },
    {
     "name": "stdout",
     "output_type": "stream",
     "text": [
      "nakamura2009.pdf\n",
      "kolb2014.pdf\n"
     ]
    },
    {
     "name": "stderr",
     "output_type": "stream",
     "text": [
      "\n",
      "100%|██████████| 7/7 [00:00<00:00, 57.35it/s]\n",
      "  0%|          | 0/18 [00:00<?, ?it/s]"
     ]
    },
    {
     "name": "stdout",
     "output_type": "stream",
     "text": [
      "tonigold2012.pdf\n",
      "yeh2013.pdf\n"
     ]
    },
    {
     "name": "stderr",
     "output_type": "stream",
     "text": [
      "100%|██████████| 18/18 [00:01<00:00,  9.90it/s]\n",
      "  0%|          | 0/9 [00:00<?, ?it/s]"
     ]
    },
    {
     "name": "stdout",
     "output_type": "stream",
     "text": [
      "ibach2010.pdf\n"
     ]
    },
    {
     "name": "stderr",
     "output_type": "stream",
     "text": [
      "100%|██████████| 9/9 [00:06<00:00,  1.40it/s]\n",
      " 45%|████▌     | 5/11 [00:00<00:00, 47.82it/s]"
     ]
    },
    {
     "name": "stdout",
     "output_type": "stream",
     "text": [
      "morales2013.pdf\n"
     ]
    },
    {
     "name": "stderr",
     "output_type": "stream",
     "text": [
      "100%|██████████| 11/11 [00:00<00:00, 47.83it/s]\n",
      " 14%|█▎        | 3/22 [00:00<00:00, 29.50it/s]"
     ]
    },
    {
     "name": "stdout",
     "output_type": "stream",
     "text": [
      "guymon2005.pdf\n"
     ]
    },
    {
     "name": "stderr",
     "output_type": "stream",
     "text": [
      "100%|██████████| 22/22 [00:00<00:00, 40.17it/s]\n",
      " 21%|██▏       | 3/14 [00:00<00:00, 25.52it/s]"
     ]
    },
    {
     "name": "stdout",
     "output_type": "stream",
     "text": [
      "ringe2019.pdf\n"
     ]
    },
    {
     "name": "stderr",
     "output_type": "stream",
     "text": [
      "100%|██████████| 14/14 [00:00<00:00, 48.64it/s]\n",
      " 40%|████      | 4/10 [00:00<00:00, 39.28it/s]"
     ]
    },
    {
     "name": "stdout",
     "output_type": "stream",
     "text": [
      "petit2017.pdf\n"
     ]
    },
    {
     "name": "stderr",
     "output_type": "stream",
     "text": [
      "100%|██████████| 10/10 [00:00<00:00, 44.77it/s]\n",
      "100%|██████████| 27/27 [00:00<00:00, 152.94it/s]\n",
      "  0%|          | 0/9 [00:00<?, ?it/s]"
     ]
    },
    {
     "name": "stdout",
     "output_type": "stream",
     "text": [
      "AIMD_benchmark_solvation.pdf\n",
      "cappa2006.pdf\n"
     ]
    },
    {
     "name": "stderr",
     "output_type": "stream",
     "text": [
      "100%|██████████| 9/9 [00:00<00:00, 54.67it/s]\n",
      " 44%|████▍     | 7/16 [00:00<00:00, 66.94it/s]"
     ]
    },
    {
     "name": "stdout",
     "output_type": "stream",
     "text": [
      "bilic2005.pdf\n"
     ]
    },
    {
     "name": "stderr",
     "output_type": "stream",
     "text": [
      "100%|██████████| 16/16 [00:00<00:00, 54.38it/s]\n",
      "100%|██████████| 1/1 [00:00<00:00, 47.16it/s]\n",
      "100%|██████████| 7/7 [00:00<00:00, 64.48it/s]\n",
      "  0%|          | 0/7 [00:00<?, ?it/s]"
     ]
    },
    {
     "name": "stdout",
     "output_type": "stream",
     "text": [
      "Masterarbeit_DoubleLayer_SS2016.pdf\n",
      "cappa2005.pdf\n",
      "schultz2005.pdf\n"
     ]
    },
    {
     "name": "stderr",
     "output_type": "stream",
     "text": [
      "100%|██████████| 7/7 [00:00<00:00, 54.70it/s]\n",
      "  9%|▉         | 1/11 [00:00<00:01,  7.28it/s]"
     ]
    },
    {
     "name": "stdout",
     "output_type": "stream",
     "text": [
      "pajkossy2018.pdf\n"
     ]
    },
    {
     "name": "stderr",
     "output_type": "stream",
     "text": [
      "100%|██████████| 11/11 [00:01<00:00,  9.33it/s]\n",
      " 27%|██▋       | 3/11 [00:00<00:00, 28.26it/s]"
     ]
    },
    {
     "name": "stdout",
     "output_type": "stream",
     "text": [
      "michaelides2006.pdf\n"
     ]
    },
    {
     "name": "stderr",
     "output_type": "stream",
     "text": [
      "100%|██████████| 11/11 [00:00<00:00, 30.64it/s]\n",
      "100%|██████████| 4/4 [00:00<00:00, 32.72it/s]\n",
      "  0%|          | 0/5 [00:00<?, ?it/s]"
     ]
    },
    {
     "name": "stdout",
     "output_type": "stream",
     "text": [
      "stacchiola2009.pdf\n",
      "le2018.pdf\n"
     ]
    },
    {
     "name": "stderr",
     "output_type": "stream",
     "text": [
      "100%|██████████| 5/5 [00:00<00:00, 28.37it/s]\n",
      "100%|██████████| 5/5 [00:00<00:00, 26.98it/s]\n",
      "  0%|          | 0/2 [00:00<?, ?it/s]"
     ]
    },
    {
     "name": "stdout",
     "output_type": "stream",
     "text": [
      "---cicero2011.pdf\n",
      "kawai2000.pdf\n"
     ]
    },
    {
     "name": "stderr",
     "output_type": "stream",
     "text": [
      "100%|██████████| 2/2 [00:00<00:00, 64.65it/s]\n",
      "100%|██████████| 9/9 [00:00<00:00, 59.85it/s]\n",
      "  0%|          | 0/6 [00:00<?, ?it/s]"
     ]
    },
    {
     "name": "stdout",
     "output_type": "stream",
     "text": [
      "hayes2011.pdf\n",
      "vanreijzen2011.pdf\n"
     ]
    },
    {
     "name": "stderr",
     "output_type": "stream",
     "text": [
      "100%|██████████| 6/6 [00:00<00:00, 35.13it/s]\n",
      "100%|██████████| 8/8 [00:00<00:00, 102.35it/s]\n",
      " 38%|███▊      | 3/8 [00:00<00:00, 27.25it/s]"
     ]
    },
    {
     "name": "stdout",
     "output_type": "stream",
     "text": [
      "10.1002@anie.201710791.pdf\n",
      "le2017.pdf\n"
     ]
    },
    {
     "name": "stderr",
     "output_type": "stream",
     "text": [
      "100%|██████████| 8/8 [00:00<00:00, 23.32it/s]\n",
      "100%|██████████| 6/6 [00:00<00:00, 37.69it/s]\n",
      "  0%|          | 0/7 [00:00<?, ?it/s]"
     ]
    },
    {
     "name": "stdout",
     "output_type": "stream",
     "text": [
      "donadio2012.pdf\n",
      "pei2006.pdf\n"
     ]
    },
    {
     "name": "stderr",
     "output_type": "stream",
     "text": [
      "100%|██████████| 7/7 [00:00<00:00, 97.98it/s]\n",
      " 33%|███▎      | 3/9 [00:00<00:00, 23.78it/s]"
     ]
    },
    {
     "name": "stdout",
     "output_type": "stream",
     "text": [
      "pedroza2015.pdf\n"
     ]
    },
    {
     "name": "stderr",
     "output_type": "stream",
     "text": [
      "100%|██████████| 9/9 [00:00<00:00, 21.07it/s]\n",
      " 50%|█████     | 3/6 [00:00<00:00, 22.71it/s]"
     ]
    },
    {
     "name": "stdout",
     "output_type": "stream",
     "text": [
      "gross2014.pdf\n"
     ]
    },
    {
     "name": "stderr",
     "output_type": "stream",
     "text": [
      "100%|██████████| 6/6 [00:00<00:00, 24.70it/s]\n",
      "  0%|          | 0/9 [00:00<?, ?it/s]\n",
      "100%|██████████| 4/4 [00:00<00:00, 35.70it/s]\n",
      "100%|██████████| 2/2 [00:00<00:00, 41.39it/s]\n",
      "  0%|          | 0/7 [00:00<?, ?it/s]"
     ]
    },
    {
     "name": "stdout",
     "output_type": "stream",
     "text": [
      "spohr1999.pdf\n",
      "ord() expected string of length 1, but int found\n",
      "standop2010.pdf\n",
      "weeraman2006.pdf\n",
      "friedl2016.pdf\n"
     ]
    },
    {
     "name": "stderr",
     "output_type": "stream",
     "text": [
      "100%|██████████| 7/7 [00:00<00:00, 26.39it/s]\n",
      "100%|██████████| 9/9 [00:00<00:00, 46.93it/s]\n"
     ]
    },
    {
     "name": "stdout",
     "output_type": "stream",
     "text": [
      "pekoz2014.pdf\n",
      "huzayyin2014.pdf\n"
     ]
    },
    {
     "name": "stderr",
     "output_type": "stream",
     "text": [
      "100%|██████████| 12/12 [00:00<00:00, 32.98it/s]\n",
      "  0%|          | 0/6 [00:00<?, ?it/s]"
     ]
    },
    {
     "name": "stdout",
     "output_type": "stream",
     "text": [
      "willard2013.pdf\n"
     ]
    },
    {
     "name": "stderr",
     "output_type": "stream",
     "text": [
      "100%|██████████| 6/6 [00:01<00:00,  4.12it/s]\n",
      "  0%|          | 0/6 [00:00<?, ?it/s]"
     ]
    },
    {
     "name": "stdout",
     "output_type": "stream",
     "text": [
      "nihonyanagi2004.pdf\n"
     ]
    },
    {
     "name": "stderr",
     "output_type": "stream",
     "text": [
      "100%|██████████| 6/6 [00:00<00:00,  6.36it/s]\n",
      " 23%|██▎       | 3/13 [00:00<00:00, 29.17it/s]"
     ]
    },
    {
     "name": "stdout",
     "output_type": "stream",
     "text": [
      "kamalakannan2018.pdf\n"
     ]
    },
    {
     "name": "stderr",
     "output_type": "stream",
     "text": [
      "100%|██████████| 13/13 [00:00<00:00, 47.54it/s]\n",
      " 50%|█████     | 3/6 [00:00<00:00, 29.17it/s]"
     ]
    },
    {
     "name": "stdout",
     "output_type": "stream",
     "text": [
      "rigoulet2018.pdf\n"
     ]
    },
    {
     "name": "stderr",
     "output_type": "stream",
     "text": [
      "100%|██████████| 6/6 [00:00<00:00, 27.89it/s]\n",
      " 40%|████      | 4/10 [00:00<00:00, 36.58it/s]"
     ]
    },
    {
     "name": "stdout",
     "output_type": "stream",
     "text": [
      "j2015.pdf\n"
     ]
    },
    {
     "name": "stderr",
     "output_type": "stream",
     "text": [
      "100%|██████████| 10/10 [00:00<00:00, 30.14it/s]\n",
      "  0%|          | 0/6 [00:00<?, ?it/s]"
     ]
    },
    {
     "name": "stdout",
     "output_type": "stream",
     "text": [
      "le2017-pzc.pdf\n"
     ]
    },
    {
     "name": "stderr",
     "output_type": "stream",
     "text": [
      "100%|██████████| 6/6 [00:00<00:00,  6.66it/s]\n",
      " 58%|█████▊    | 7/12 [00:00<00:00, 68.06it/s]"
     ]
    },
    {
     "name": "stdout",
     "output_type": "stream",
     "text": [
      "iori2009.pdf\n"
     ]
    },
    {
     "name": "stderr",
     "output_type": "stream",
     "text": [
      "100%|██████████| 12/12 [00:00<00:00, 57.09it/s]\n",
      "100%|██████████| 6/6 [00:00<00:00, 33.97it/s]\n",
      "  0%|          | 0/13 [00:00<?, ?it/s]"
     ]
    },
    {
     "name": "stdout",
     "output_type": "stream",
     "text": [
      "li2019-in-situ.pdf\n",
      "nadler2012.pdf\n"
     ]
    },
    {
     "name": "stderr",
     "output_type": "stream",
     "text": [
      "100%|██████████| 13/13 [00:00<00:00, 34.04it/s]\n",
      " 45%|████▌     | 5/11 [00:00<00:00, 43.30it/s]"
     ]
    },
    {
     "name": "stdout",
     "output_type": "stream",
     "text": [
      "iori2008.pdf\n"
     ]
    },
    {
     "name": "stderr",
     "output_type": "stream",
     "text": [
      "100%|██████████| 11/11 [00:00<00:00, 42.94it/s]\n",
      "  0%|          | 0/12 [00:00<?, ?it/s]"
     ]
    },
    {
     "name": "stdout",
     "output_type": "stream",
     "text": [
      "gauthier2019.pdf\n"
     ]
    },
    {
     "name": "stderr",
     "output_type": "stream",
     "text": [
      "100%|██████████| 12/12 [00:01<00:00,  8.67it/s]\n",
      "  0%|          | 0/8 [00:00<?, ?it/s]"
     ]
    },
    {
     "name": "stdout",
     "output_type": "stream",
     "text": [
      "ncomms12695.pdf\n"
     ]
    },
    {
     "name": "stderr",
     "output_type": "stream",
     "text": [
      "100%|██████████| 8/8 [00:00<00:00,  8.67it/s]\n",
      "100%|██████████| 6/6 [00:00<00:00, 42.64it/s]\n",
      "  0%|          | 0/26 [00:00<?, ?it/s]"
     ]
    },
    {
     "name": "stdout",
     "output_type": "stream",
     "text": [
      "lin2012.pdf\n",
      "schnur2009.pdf\n"
     ]
    },
    {
     "name": "stderr",
     "output_type": "stream",
     "text": [
      "100%|██████████| 26/26 [00:00<00:00, 95.23it/s] "
     ]
    },
    {
     "name": "stdout",
     "output_type": "stream",
     "text": [
      "DONE\n"
     ]
    },
    {
     "name": "stderr",
     "output_type": "stream",
     "text": [
      "\n"
     ]
    }
   ],
   "source": [
    "texts = pdf2text('au-water-edl/')"
   ]
  },
  {
   "cell_type": "code",
   "execution_count": 12,
   "metadata": {},
   "outputs": [],
   "source": [
    "# qu = ['Au(111)', 'Au (111)', '(111)', '553']\n",
    "# qu=['temp', 'temperature', 'room']\n",
    "qu=['exchange-correlation','layer', 'optimized', 'optimised']\n",
    "qu=['vacuum']\n",
    "qu=['hydrophilic', 'hydrop']"
   ]
  },
  {
   "cell_type": "code",
   "execution_count": 13,
   "metadata": {},
   "outputs": [],
   "source": [
    "def query4kw(texts, qu):\n",
    "    for k,v in texts.items():\n",
    "        for ind, page in enumerate(v):\n",
    "            for i, line in enumerate(page):\n",
    "                res = [ele for ele in qu if ele in line]\n",
    "                if any(res):\n",
    "        \n",
    "                    print(f\"{k}:, {ind+1}, {i}, {line}\")"
   ]
  },
  {
   "cell_type": "code",
   "execution_count": 14,
   "metadata": {},
   "outputs": [
    {
     "name": "stdout",
     "output_type": "stream",
     "text": [
      "cicero2011-SI:, 11, 41, hydrophilicity. \n",
      "SI_AIMD_benchmark_solvation:, 15, 82, thisresultisquiteintuitive,ithydrophilicityasanatomistic/microscopicproperty.\n",
      "yeh2013:, 18, 0, K.-Y. Yeh et al. / Electrochimica Acta 101 (2013) 308– 325325[51] J.P. Perdew, K. Burke, M. Ernzerhof, Generalized gradient approximation madesimple, Physical Review Letters 77 (1996) 3865.[52] J.P. Perdew, J.A. Chevary, S.H. Vosko, K.A. Jackson, M.R. Pederson, D.J. Singh, C.Fiolhais, Atoms, molecules, solids, and surfaces: applications of the generalizedgradient approximation for exchange and correlation, Physical Review B 46(1992) 6671.[53] S. Plimpton, Fast parallel algorithms for short-range molecular dynamics, Jour-nal of Computational Physics 117 (1995) 1.[54] S. Plimpton, LAMMPS Molecular Dynamics Simulator Web page, 2007.http://lammps.sandia.gov[55] M.P. Allen, D.J. Tildesley, Computer Simulation of Liquids, Oxford UniversityPress, New York, 1987.[56] S. Nose, A uniﬁed formulation of the constant temperature molecular dynamicsmethods, Journal of Chemical Physics 81 (1984) 511.[57] W.G. Hoover, Canonical dynamics: equilibrium phase-space distributions,Physical Review A 31 (1985) 1695.[58] P. Mark, L. Nilsson, Structure and dynamics of the TIP3P, SPC, and SPC/E watermodels at 298 K, Journal of Physical Chemistry A 105 (2001) 9954.[59] R.W. Hockney, J.W. Eastwood, Computer Simulation Using Particles, Instituteof Physics, Bristol, 1998.[60] E. Spohr, Computer simulation of the structure of the electrochemical doublelayer, Journal of Electroanalytical Chemistry 450 (1998) 327.[61] S.J. Suresh, Disruption of hydrogen bond structure of water near charged elec-trode surfaces, Journal of Chemical Physics 126 (2007) 204705.[62] V.A. Froltsov, S.H.L. Klapp, Anisotropic dynamics of dipolar liquids in narrowslit pores, Journal of Chemical Physics 124 (2006) 134701.[63] R. Guidelli, W. Schmickler, Recent developments in models for the interfacebetween a metal and an aqueous solution, Electrochimica Acta 45 (2000) 2317.[64] M. Watanabe, A.M. Brodsky, W.P. Reinhardt, Dielectric properties and phasetransitions of water between conducting plates, Journal of Physical Chemistry95 (1991) 4593.[65] A. Kohlmeyer, W. Witschel, E. Spohr, Molecular dynamics simulations ofwater/metal and water/vacuum interfaces with a polarizable water model,Chemical Physics 213 (1996) 211.[66] M.A.V. Devanath, K. Ramakris, Differential capacitance of some solidmetal/aqueous-electrolyte interfaces, Electrochimica Acta 18 (1973) 259.[67] P. Hochtl, S. Boresch, W. Bitomsky, O. Steinhauser, Rationalization of the dielec-tric properties of common three-site water models in terms of their force ﬁeldparameters, Journal of Chemical Physics 109 (1998) 4927.[68] E. Spohr, Molecular dynamics simulations of water and ion dynamics in theelectrochemical double layer, Solid State Ionics 150 (2002) 1.[69] D.E. Rosenfeld, C.A. Schmuttenmaer, Dynamics of the water hydrogen bond net-work at ionic, nonionic, and hydrophobic interfaces in nanopores and reversemicelles, Journal of Physical Chemistry B 115 (2011) 1021.[70] M.R. Harpham, B.M. Ladanyi, N.E. Levinger, The effect of the counterion onwater mobility in reverse micelles studied by molecular dynamics simulations,Journal of Physical Chemistry B 109 (2005) 16891.[71] J. Faeder, M.V. Albert, B.M. Ladanyi, Molecular dynamics simulations of the inte-rior of aqueous reverse micelles: a comparison between sodium and potassiumcounterions, Langmuir 19 (2003) 2514.[72] J. Faeder, B.M. Ladanyi, Molecular dynamics simulations of the interior of aque-ous reverse micelles, Journal of Physical Chemistry B 104 (2000) 1033.[73] V.A. Froltsov, S.H.L. Klapp, Dielectric response of polar liquids in narrow slitpores, Journal of Chemical Physics 126 (2007) 114703.[74] A.Y. Zasetsky, S.V. Petelina, A.K. Lyashchenko, A.S. Lileev, Computer simula-tion study of rotational diffusion in polar liquids of different types, Journal ofChemical Physics 133 (2010) 134502.[75] V. Ballenegger, J.P. Hansen, Dielectric permittivity proﬁles of conﬁned polarﬂuids, Journal of Chemical Physics 122 (2005) 114711.[76] P.D. Duncan, P.J. Camp, Structure and dynamics in a monolayer of dipolarspheres, Journal of Chemical Physics 121 (2004) 11322.[77] K.J. Tielrooij, R.L.A. Timmer, H.J. Bakker, M. Bonn, Structure dynamics of the pro-ton in liquid water probed with terahertz time-domain spectroscopy, PhysicalReview Letters 102 (2009) 198303.[78] S. Woutersen, H.J. Bakker, Ultrafast vibrational and structural dynamics of theproton in liquid water, Physical Review Letters 96 (2006) 138305.[79] D. Marx, Proton transfer 200 years after von Grotthuss: insights from ab initiosimulations, ChemPhysChem 8 (2007) 209.[80] Y.-K. Choe, E. Tsuchida, T. Ikeshoji, First-principles molecular dynamics studyon aqueous sulfuric acid solutions, Journal of Chemical Physics 126 (2007)154510.[81] Y.-K. Choe, E. Tsuchida, T. Ikeshoji, S. Yamakawa, S.-A. Hyodo, Nature of pro-ton dynamics in a polymer electrolyte membrane, naﬁon: a ﬁrst-principlesmolecular dynamics study, Physical Chemistry Chemical Physics 11 (2009)3892.[82] W.C. Sheng, H.A. Gasteiger, Y. Shao-Horn, Hydrogen oxidation and evolutionreaction kinetics on platinum: acid vs alkaline electrolytes, Journal of the Elec-trochemical Society 157 (2010) B1529.[83] M.K. Petersen, A.J. Hatt, G.A. Voth, Orientational dynamics of water in the Naﬁonpolymer electrolyte membrane and its relationship to proton transport, Journalof Physical Chemistry B 112 (2008) 7754.\n",
      "morales2013:, 2, 111, boundhydroperoxyintermediate.\n",
      "morales2013:, 8, 84, latedAuOOHinthehydroperoxidestructure;howeverthis\n",
      "morales2013:, 10, 165, cationofhydroperoxyspeciesasreaction\n",
      "ringe2019:, 12, 128, E.Lust,Interplaybetweenthehydrophilicityofmetal\n",
      "petit2017:, 1, 87, diamondhydrophilicitybymodifyingitssurfacechemistry.\n",
      "petit2017:, 1, 89, usedasreferenceforhydrophilicandhydrophobicsurfaces,\n",
      "petit2017:, 2, 3, 10,14Furthermore,otherhydrophobic\n",
      "petit2017:, 2, 8, dierenthydrationstructurethanclassicalhydrophobicnano-\n",
      "petit2017:, 4, 62, thepresenceofwatermoleculesonhydrophobicgroups,most\n",
      "petit2017:, 5, 79, adsorbedonhydrophobicsurfaces.\n",
      "petit2017:, 6, 86, hydrophobicnatureoftheH-terminateddiamondsurface.The\n",
      "petit2017:, 6, 106, hydrophobicsitesthatlocallydisturbthewaterHBnetwork.\n",
      "petit2017:, 6, 153, cannotonlybeassociatedwithhydrophobichydrationbecause\n",
      "petit2017:, 6, 155, previousXAmeasurementsonhydrophobicsolutesinduced\n",
      "petit2017:, 7, 70, 10ThehydrophobiccharacteroftheH-terminateddiamondinduces\n",
      "petit2017:, 7, 72, theformationofahydrophobicgapatthediamond\n",
      "petit2017:, 7, 75, accumulationofelectronsinthehydrophobicgapatthe\n",
      "petit2017:, 7, 83, hydrophobichydrogenatedgroups.NDs-Hpreparedina\n",
      "petit2017:, 7, 156, characterizationofhydrophilic/hydrophobicsitesappearstobe\n",
      "petit2017:, 7, 159, Hydrophilicandhydrophobicsitescanbeobservedonthe\n",
      "petit2017:, 7, 162, hydrophobicsitesonNDs-polyarescreenedbythehydrophilic\n",
      "petit2017:, 7, 166, AAwatermoleculesclosetohydrophobicsitesduetoe\n",
      "petit2017:, 7, 170, presenceofbothhydrophilicandhydrophobicsurfacesites.\n",
      "petit2017:, 8, 15, moleculesduetotheirhydrophobiccharacter.However,along-\n",
      "petit2017:, 8, 48, otherhydrophobicnanomaterials.Electronaccumulationinthe\n",
      "AIMD_benchmark_solvation:, 12, 22, Boththedensityandwateradsorptionshowatrendintheoverallhydrophilicity\n",
      "AIMD_benchmark_solvation:, 14, 6, ,wateradsorptionasaconsequenceofthishydrophilicityhasatimpacton\n",
      "AIMD_benchmark_solvation:, 14, 71, ontheotherwiseveryhydrophobicAu(111)surface.Itshouldbenoted,however,thatthe\n",
      "cappa2006:, 4, 77, effectivelyexcludedfromtheªhydrophobicºionfacearound\n",
      "stacchiola2009:, 1, 24, ongold,weshowthattheAu(111)surfaceishydrophobic.TheweakinteractionofwaterwithAuinduces\n",
      "stacchiola2009:, 1, 25, theformationofauniquedoublebilayer,whichitselfishydrophobicduetotheinternallockingofallhydrogen\n",
      "stacchiola2009:, 1, 82, resolved;goldisclaimedtobehydrophobic\n",
      "stacchiola2009:, 1, 83, 7orhydrophilic.\n",
      "stacchiola2009:, 1, 85, shouldbehydrophobic.\n",
      "stacchiola2009:, 1, 91, hydrophobicandthatthroughtheformationofintrahydrogen\n",
      "stacchiola2009:, 4, 31, 12thatAu(111)ishydrophobicincharacter.Inaddition,thedataare\n",
      "stacchiola2009:, 4, 33, toauniquedoublebilayerformation,whichitselfishydrophobic\n",
      "---cicero2011:, 1, 17, understandwhetherconceptsashydrophobicity/hydrophilicity\n",
      "---cicero2011:, 1, 27, Hydrophobic/hydrophilicpropertiesofmaterialsstrongly\n",
      "---cicero2011:, 1, 49, tobehaveasahydrophobicsubstrate,intermsofinteraction\n",
      "---cicero2011:, 1, 52, hydrophilic.\n",
      "---cicero2011:, 1, 74, thatdonotcontainanyexplicithydrophilicgroup(suchas\n",
      "---cicero2011:, 1, 106, turn,thesurfacehydrophilicity.\n",
      "---cicero2011:, 2, 128, hardtoconcludewhethergoldwouldbehaveasahydrophobicor\n",
      "---cicero2011:, 2, 129, hydrophilicsurface.\n",
      "---cicero2011:, 3, 36, towardthesurface,whichistypicalofmanyhydrophobicsurfaces\n",
      "---cicero2011:, 4, 16, #erentdipolesdependingonthehydrophobicityofthe\n",
      "---cicero2011:, 4, 17, surface.Athydrophobicsurfaces,moleculeshaveanumberofH\n",
      "---cicero2011:, 4, 19, dipoles(see,e.g.,ref33),whileinthecaseofahydrophilic\n",
      "---cicero2011:, 4, 25, surfaceofhydrophiliccharacter.\n",
      "---cicero2011:, 4, 38, #ectappearstoimpartahydrophilic\n",
      "---cicero2011:, 4, 40, Thehydrophilicityofasurfaceisusuallyrelatedtotheabilityofa\n",
      "---cicero2011:, 4, 43, hydrophiliccharacter.\n",
      "hayes2011:, 2, 47, anionicsubstratesorsolvophobicallywithhydrophobicsub-\n",
      "vanreijzen2011:, 4, 6, therefore,thatthissurfaceishydrophobic\n",
      "pei2006:, 2, 33, hydrophobicsurfactantchainsarethemaineffectofsolventto\n",
      "pedroza2015:, 6, 144, tionaboutthehydrophobicnatureoftheinterfaces,giventhat\n",
      "pedroza2015:, 6, 145, hydrophobicinterfacesarecharacterizedbythepresenceof\n",
      "pedroza2015:, 7, 31, betakenasanindicationoflargerhydrophobicityforAuwith\n",
      "pedroza2015:, 8, 2, respecttoPd,whichcouldbeconsideredmorehydrophilicthan\n",
      "pedroza2015:, 8, 3, hydrophobic.\n",
      "pedroza2015:, 8, 96, considerationandisnotalwayshydrophobic.Inparticular,for\n",
      "friedl2016:, 2, 119, mostly as monomers, often trapped close to hydrophilic moieties \n",
      "kamalakannan2018:, 1, 22, philicandhydrophobicionicliquids(ILs;1-butyl3-methylimidazolium\n",
      "kamalakannan2018:, 1, 34, adsorptionsites.Indeed,hydrophilicanionsofILsarestronglyadsorbed\n",
      "kamalakannan2018:, 1, 39, hydrophobicanionsareweaklybonded.The[BMIm]\n",
      "kamalakannan2018:, 3, 19, proaches.Wehaveselectedbothhydrophilic(i.e.,[BMIm]\n",
      "kamalakannan2018:, 3, 23, )andhydrophobic(i.e.,\n",
      "kamalakannan2018:, 3, 44, inducedcationadsorptiononthehydrophilicILs@Au(111)\n",
      "kamalakannan2018:, 3, 49, interactingwiththecationinhydrophobicILs,and(iii)\n",
      "kamalakannan2018:, 3, 59, Weconsideredbothhydrophobic\n",
      "kamalakannan2018:, 3, 60, andhydrophilicionicliquids.TheseILsarecomposedofthe\n",
      "kamalakannan2018:, 3, 70, [BMIm]+[X].AlloftheseILsarehydrophobic,exceptfor\n",
      "kamalakannan2018:, 4, 23, [TFSA]ILs.Thisisduetothehighlyhydrophobicnatureof\n",
      "kamalakannan2018:, 4, 48, Au(111)andhydrophilicILsareshownin\n",
      "kamalakannan2018:, 4, 59, hydrophilicILsandtheAu(111)surfaceviathe\n",
      "kamalakannan2018:, 4, 101, Optimizedgeometricalstructures,ascomputedatthePBE+D3/TZVPleveloftheory,ofvarioushydrophilicILs@Au(111)surfacesand\n",
      "kamalakannan2018:, 5, 56, Optimizedequilibriumstructures,ascomputedatthePBE+D3/TZVPleveloftheory,ofvarioushydrophobicILsontheAu(111)\n",
      "kamalakannan2018:, 6, 3, EadsvaluesofthesehydrophilicILs\n",
      "kamalakannan2018:, 6, 16, verylowwhencomparedtothatofotherhydrophilicILs,the\n",
      "kamalakannan2018:, 6, 60, DCA)hydrophobicILs,\n",
      "kamalakannan2018:, 6, 66, atoms.Instead,thesehydrophobicanionsformacomplexwith\n",
      "kamalakannan2018:, 6, 77, hydrophobicILswithandwithoutconsideringdispersion\n",
      "kamalakannan2018:, 6, 83, contrarytothoseofthehydrophilicILs.Instead,negative\n",
      "kamalakannan2018:, 6, 92, hydrophobicILs,di\n",
      "kamalakannan2018:, 6, 136, forthehydrophobicILs.\n",
      "kamalakannan2018:, 6, 161, interfaceforthehydrophilicILs(Cl,DCA,andHCOO)and\n",
      "kamalakannan2018:, 6, 163, somehydrophobicILs(OTFandTFSA),asshownin\n",
      "kamalakannan2018:, 6, 165, .ThelargedeviationsinhydrophilicILinteractionsaremainly\n",
      "kamalakannan2018:, 6, 188, interactiondependsontheirhydrophilic/hydrophobiccharac-\n",
      "kamalakannan2018:, 6, 190, ter.Bothhydrophilicanionsareheredirectlybondedwiththe\n",
      "kamalakannan2018:, 7, 32, hydrophilicILs,with[Cl]\n",
      "kamalakannan2018:, 7, 69, Electrondensitysurface(isosurfacevalueof0.001au)ofvarioushydrophilicILs@Au(111)surfaces.\n",
      "kamalakannan2018:, 8, 27, caneasilyattracthydrophilicanionsthroughchargetransfer\n",
      "kamalakannan2018:, 8, 64, adsorptionofhydrophilicandhydrophobicILsonthegold\n",
      "kamalakannan2018:, 8, 151, right:mappedspherefor0.001au)ofvarioushydrophobicILs@\n",
      "kamalakannan2018:, 9, 20, uponadsorption.ForhydrophilicILsonthegoldsurface,the\n",
      "kamalakannan2018:, 9, 24, thegasphase(exceptfortheHCOOanion).Forhydrophobic\n",
      "kamalakannan2018:, 9, 39, betweenthegoldsurfaceandhydrophilicILsatthisinterface.\n",
      "kamalakannan2018:, 9, 58, hydrophilicILs.TherespectivepartialchargesontheAu\n",
      "kamalakannan2018:, 9, 109, TheadsorptionofhydrophilicandhydrophobicILssuchas\n",
      "kamalakannan2018:, 9, 126, hydrophilicILs@Au(111)surface,(ii)whereasinthehydro-\n",
      "kamalakannan2018:, 9, 134, theanionandion-pairinteractions.Thus,hydrophilicanionsof\n",
      "kamalakannan2018:, 9, 207, erentanions(i.e.,hydrophilicandhydrophobicILs).\n",
      "j2015:, 2, 21, phobicandhydrophilicregions),intricatestructures,dynamics,\n",
      "j2015:, 2, 43, SAMswithbothhydrophobicandhydrophilicterminal\n",
      "j2015:, 2, 73, highfrictionandlowerhydrophobicity,andtheypromote\n",
      "j2015:, 2, 86, (hydrophobic)tohydroxy-terminated(hydrophilic)alkane\n",
      "j2015:, 3, 92, thathydrophobicalkanethiolligandchainswereabletobend\n",
      "j2015:, 4, 1, enhancedhydrophilicinteractionsbetweenthemixedSAM\n",
      "j2015:, 4, 21, structureofthefirsthydrationshellforeitherthehydrophobic\n",
      "j2015:, 4, 22, orhydrophilichomoligandgoldnanoparticleindicatethatthe\n",
      "j2015:, 4, 28, particle,butthepeakheightsdiffer.Thedegreeofhydrophi-\n",
      "j2015:, 4, 36, fromthestronginteractionsbetweenthehydrophilicterminal\n",
      "j2015:, 4, 45, Theattractiveinteractionsbetweenthehydrophilicterminal\n",
      "j2015:, 4, 49, shell)forthehydrophobichomoligandgoldnanoparticle\n",
      "j2015:, 4, 50, shiftsto3.7Å,asthehydrophobicmethylgroupsdonotallow\n",
      "j2015:, 5, 38, groupsofthehydrophobichomoligandgoldnanoparticle.\n",
      "j2015:, 5, 41, inthevicinalwaterofthehydrophilichomoligandgoldnano-\n",
      "j2015:, 5, 46, withincreasingconcentrationofhydrophilicterminalgroups.\n",
      "j2015:, 5, 56, moleculesareretainedneartothehydrophilicgoldnanopar-\n",
      "j2015:, 5, 60, hydrophobichomoligandgoldnanoparticle(Table\n",
      "j2015:, 6, 22, lipidmonolayersandahydrophobicsurface[\n",
      "j2015:, 6, 36, interface.Inthecaseofthehydrophobichomoligandgold\n",
      "j2015:, 6, 42, culesandthehydrophobicsurface.Themixedligandgold\n",
      "j2015:, 6, 45, thehomoligandhydrophilicgoldnanoparticle.Forallofthese\n",
      "j2015:, 6, 53, increaseinpeakheightoccursbecausetheoverallhydrophi-\n",
      "j2015:, 6, 59, culesalsoimpliesthatintroducinghydrophilicterminal\n",
      "j2015:, 6, 60, groupsintoacoatingwithonlyhydrophobicterminalgroups\n",
      "j2015:, 6, 61, elevatesthehydrophilicityandsuppressesthehydrophobicity\n",
      "j2015:, 6, 62, ofthesurfacetosomeextent,evenwhenthehydrophilicter-\n",
      "j2015:, 6, 65, ingconcentrationofhydrophilicterminalgroupsonthemixed\n",
      "j2015:, 7, 0, SAM-coatedgoldnanoparticleasthehydrophilicinteraction\n",
      "j2015:, 8, 21, ofthewatermoleculesclosetothehydrophilicsurfaceregion\n",
      "j2015:, 8, 34, nalhydrophobicandtheterminalhydrophilicmoieties.The\n",
      "j2015:, 8, 38, ofinterfacialhydrogenbonds,theoverallhydrophilicity,and\n",
      "j2015:, 8, 43, hydrophilicinteractionsandcreatingagreaternumberofin-\n",
      "j2015:, 8, 75, basedonthehydrophobicandhydrophilicinteractionsof\n",
      "j2015:, 10, 91, 56.ScatenaLF,BrownMG,RichmondGL(2001)Waterathydropho-\n",
      "j2015:, 10, 132, 61.YooH,ParanjiR,PollackGH(2011)Impactofhydrophilicsur-\n",
      "le2017-pzc:, 2, 53, onthehydrophilicCOOH-\n",
      "iori2009:, 2, 15, beeasilycontaminatedbyhydrophobicmolecules),andits\n",
      "li2019-in-situ:, 1, 79, 14, hydrophobic water\n",
      "li2019-in-situ:, 4, 112,  368, 444Œ446 (1994). 6. Scatena, L. F., Brown, M. G. & Richmond, G. L. Water at hydrophobic \n"
     ]
    }
   ],
   "source": [
    "query4kw(texts, qu)"
   ]
  },
  {
   "cell_type": "code",
   "execution_count": null,
   "metadata": {},
   "outputs": [],
   "source": []
  },
  {
   "cell_type": "code",
   "execution_count": null,
   "metadata": {},
   "outputs": [],
   "source": []
  }
 ],
 "metadata": {
  "kernelspec": {
   "display_name": "Python 3",
   "language": "python",
   "name": "python3"
  },
  "language_info": {
   "codemirror_mode": {
    "name": "ipython",
    "version": 3
   },
   "file_extension": ".py",
   "mimetype": "text/x-python",
   "name": "python",
   "nbconvert_exporter": "python",
   "pygments_lexer": "ipython3",
   "version": "3.9.0"
  }
 },
 "nbformat": 4,
 "nbformat_minor": 4
}
